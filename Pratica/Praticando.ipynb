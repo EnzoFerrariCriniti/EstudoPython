{
  "nbformat": 4,
  "nbformat_minor": 0,
  "metadata": {
    "colab": {
      "name": "Untitled6.ipynb",
      "provenance": [],
      "collapsed_sections": []
    },
    "kernelspec": {
      "name": "python3",
      "display_name": "Python 3"
    },
    "language_info": {
      "name": "python"
    }
  },
  "cells": [
    {
      "cell_type": "markdown",
      "source": [
        "# Chute um numero"
      ],
      "metadata": {
        "id": "LX7A_QrPmnZo"
      }
    },
    {
      "cell_type": "code",
      "source": [
        "from random import randint\n",
        "print('#### Iníciando Jogo ####')\n",
        "print('')\n",
        "print('Qual dificuldade voce deseja escolher? ')\n",
        "print('')\n",
        "print('Dificuldade nivel 1\\n Dificuldade nivel 2\\n Dificuldade nivel 3\\n')\n",
        "ehNumerovalido = False\n",
        "nivel = 0\n",
        "while (ehNumerovalido == False):\n",
        "    nivel = input(\"Digite o nivel: (1-3) \")\n",
        "    try: \n",
        "        if int(nivel) == 1:\n",
        "          print(\"Nivel de dificuldade escolhido, voce tera 15 chances: \") \n",
        "          ehNumerovalido = True\n",
        "          chances = 15\n",
        "          erro = 100\n",
        "          break\n",
        "        if int(nivel) == 2:\n",
        "          print(\"Nivel de dificuldade escolhido, voce tera 10 chances: \") \n",
        "          ehNumerovalido = True\n",
        "          chances = 10\n",
        "          erro = 200\n",
        "          break\n",
        "        if int(nivel) == 3:\n",
        "          print(\"Nivel de dificuldade escolhido, voce tera 3 chances: \") \n",
        "          ehNumerovalido = True \n",
        "          chances = 3\n",
        "          erro = 333\n",
        "          break\n",
        "        else : \n",
        "          print(\"O nivel nao é valido \")\n",
        "          ehNumerovalido = False \n",
        "    except ValueError:     \n",
        "            print(\"O nivel nao é valido \")\n",
        "resposta = False\n",
        "pontos = 1000\n",
        "random = randint(0,10)\n",
        "print('Pontuação inicial {}'.format(pontos))\n",
        "for chance in range(chances):\n",
        "    if int(nivel) == 3 and chances == 1 :\n",
        "      erro = 334\n",
        "    if resposta == True:\n",
        "      break;\n",
        "    while chances > 0:\n",
        "          print('')\n",
        "          chute = int(input('Chute um numero de 0 - 10 ' ))\n",
        "          print('')\n",
        "          chances = chances -1\n",
        "          if chute == random:\n",
        "            print('')\n",
        "            print('Parabéns você acertou o número secreto! O número era {} e você ainda tinha {} chances. '.format(random, chances))\n",
        "            print('')\n",
        "            print('Pontuação final {}'.format(pontos))\n",
        "            resposta = True       \n",
        "            break;\n",
        "          if chute > random:\n",
        "            print('')\n",
        "            print('Você errou!!! Dica: É um número menor.')\n",
        "            print('Você possui {} chances.'.format(chances))\n",
        "            print('')\n",
        "            pontos = pontos - erro\n",
        "            print('Você agora tem {} pontos.'.format(pontos))\n",
        "            break;\n",
        "\n",
        "          else:\n",
        "            print('')\n",
        "            print('Você errou!!! Dica: É um número maior.')\n",
        "            print('Você possui {} chances.'.format(chances))\n",
        "            print('')\n",
        "            pontos = pontos - erro\n",
        "            print('Você agora tem {} pontos.'.format(pontos))\n",
        "            break;\n",
        "    while chances == 0 and resposta == False:\n",
        "          print('')\n",
        "          print('Suas chances acabaram, você perdeu!')\n",
        "          print('### Fim do Jogo ###')\n",
        "          break;\n",
        "\n",
        "\n"
      ],
      "metadata": {
        "id": "pGB8w1dvfzGD"
      },
      "execution_count": null,
      "outputs": []
    },
    {
      "cell_type": "markdown",
      "source": [
        "# Trabalhando com lista"
      ],
      "metadata": {
        "id": "YNTZRpAUmhXA"
      }
    },
    {
      "cell_type": "code",
      "source": [
        "lista = [10, -2, 4, 8, 100, 44, -19, 2, 3, 2, -90, 11, -33, 10, 67, 15]"
      ],
      "metadata": {
        "id": "8YCd4l4xvtlE"
      },
      "execution_count": null,
      "outputs": []
    },
    {
      "cell_type": "code",
      "source": [
        "# a) Imprima o maior elemento \n",
        "max(lista)"
      ],
      "metadata": {
        "colab": {
          "base_uri": "https://localhost:8080/"
        },
        "id": "YlFCHZnYxOnl",
        "outputId": "69f54ad1-3e96-4c50-995b-7a3a4a98a34d"
      },
      "execution_count": null,
      "outputs": [
        {
          "output_type": "execute_result",
          "data": {
            "text/plain": [
              "100"
            ]
          },
          "metadata": {},
          "execution_count": 68
        }
      ]
    },
    {
      "cell_type": "code",
      "source": [
        "# b) Imprima o menor elemento \n",
        "min(lista)"
      ],
      "metadata": {
        "colab": {
          "base_uri": "https://localhost:8080/"
        },
        "id": "dPZKTcqLxaK2",
        "outputId": "3784ca01-81de-4431-e9f8-da3abb94d190"
      },
      "execution_count": null,
      "outputs": [
        {
          "output_type": "execute_result",
          "data": {
            "text/plain": [
              "-90"
            ]
          },
          "metadata": {},
          "execution_count": 69
        }
      ]
    },
    {
      "cell_type": "code",
      "source": [
        "# c) Imprima os numeros pares \n",
        "lista2 = sorted(filter(lambda x: x % 2 == 0, lista))\n",
        "lista2"
      ],
      "metadata": {
        "colab": {
          "base_uri": "https://localhost:8080/"
        },
        "id": "YzLKYC1VxjCE",
        "outputId": "da69fd19-265f-4ffe-c380-e94c428729b2"
      },
      "execution_count": null,
      "outputs": [
        {
          "output_type": "execute_result",
          "data": {
            "text/plain": [
              "[-90, -2, 2, 2, 4, 8, 10, 10, 44, 100]"
            ]
          },
          "metadata": {},
          "execution_count": 99
        }
      ]
    },
    {
      "cell_type": "code",
      "source": [
        "# d) Imprima o numero de ocorrencias do primeiro elemento da lista \n",
        "lista.count(10)"
      ],
      "metadata": {
        "colab": {
          "base_uri": "https://localhost:8080/"
        },
        "id": "oo8QsNZZxzqe",
        "outputId": "66073ac0-f459-43ca-813b-d3a19987e6ed"
      },
      "execution_count": null,
      "outputs": [
        {
          "output_type": "execute_result",
          "data": {
            "text/plain": [
              "2"
            ]
          },
          "metadata": {},
          "execution_count": 74
        }
      ]
    },
    {
      "cell_type": "code",
      "source": [
        "# e) Imprima a media dos elementos \n",
        "import numpy as np\n",
        "np.mean(lista)"
      ],
      "metadata": {
        "colab": {
          "base_uri": "https://localhost:8080/"
        },
        "id": "omyw7ifiyK2_",
        "outputId": "cbded50f-9207-41ff-cb91-575d54dbb50b"
      },
      "execution_count": null,
      "outputs": [
        {
          "output_type": "execute_result",
          "data": {
            "text/plain": [
              "8.25"
            ]
          },
          "metadata": {},
          "execution_count": 76
        }
      ]
    },
    {
      "cell_type": "code",
      "source": [
        "# f) Soma dos elementos negativos \n",
        "soma_dos_negativos = sum(n for n in lista if n < 0)\n",
        "print('A soma dos elementos negativos é igual a {}'.format(soma_dos_negativos))"
      ],
      "metadata": {
        "colab": {
          "base_uri": "https://localhost:8080/"
        },
        "id": "C5wt60rhzHes",
        "outputId": "b85cc2f6-ebd3-48e5-f3f3-f7a53abc622d"
      },
      "execution_count": null,
      "outputs": [
        {
          "output_type": "stream",
          "name": "stdout",
          "text": [
            "A soma dos elementos negativos é igual a -144\n"
          ]
        }
      ]
    },
    {
      "cell_type": "code",
      "source": [
        "# g) Soma dos elementos positivos\n",
        "soma_dos_positivos = sum(n for n in lista if n > 0)\n",
        "print('A soma dos elementos positivos é igual a {}'.format(soma_dos_positivos))"
      ],
      "metadata": {
        "colab": {
          "base_uri": "https://localhost:8080/"
        },
        "id": "PlETRCJuyqA_",
        "outputId": "74e9ad93-a961-4bcd-890d-6202a0cdfb86"
      },
      "execution_count": null,
      "outputs": [
        {
          "output_type": "stream",
          "name": "stdout",
          "text": [
            "A soma dos elementos positivos é igual a 276\n"
          ]
        }
      ]
    },
    {
      "cell_type": "code",
      "source": [
        "# h) Imprima os elementos que aparecem mais de uma vez \n",
        "from iteration_utilities import duplicates\n",
        "def duplicados(lista):\n",
        "  return list(duplicates(lista))\n",
        "duplicados(lista)"
      ],
      "metadata": {
        "id": "-UBLn5EMz2m5"
      },
      "execution_count": null,
      "outputs": []
    },
    {
      "cell_type": "markdown",
      "source": [
        "# Velocidade media"
      ],
      "metadata": {
        "id": "OQITQSXRmki0"
      }
    },
    {
      "cell_type": "code",
      "source": [
        "# a) Defina uma função que calcule a velocidade média (recebendo a distancia e o tempo como parametros)\n",
        "def velmedia (x,y):\n",
        "  resultado = x/y\n",
        "  return resultado\n",
        "print('#### Iníciando a calculadoura de velocidade media ####')\n",
        "print('')\n",
        "ehNumerovalido = False\n",
        "while (ehNumerovalido == False):\n",
        "    try: \n",
        "        distancia = int(input('Por favor digite qual a distancia em km até o seu destino : '))\n",
        "        if type(distancia) == int and distancia > 0:\n",
        "          ehNumerovalido == True\n",
        "          break \n",
        "        else : \n",
        "          print('O numero nao é valido')               \n",
        "    except ValueError:     \n",
        "            print('O numero nao é valido ')\n",
        "print('')\n",
        "ehNumerovalido = False\n",
        "while (ehNumerovalido == False):\n",
        "    try: \n",
        "        tempo = int(input('Por favor digite em quantos minutos deseja chegar ao seu destino : '))\n",
        "        if type(tempo) == int and tempo > 0:\n",
        "          ehNumerovalido == True\n",
        "          break\n",
        "        else : \n",
        "          print('O numero nao é valido')        \n",
        "    except ValueError:     \n",
        "            print('O numero nao é valido ')\n",
        "print('')\n",
        "tempo = tempo/60\n",
        "print('Para voce chegar no seu destino no tempo estipulado sera necessario uma velocidade media de {} km/h'.format(velmedia(distancia,tempo)))"
      ],
      "metadata": {
        "id": "YyWVc9vm1tR5",
        "colab": {
          "base_uri": "https://localhost:8080/"
        },
        "outputId": "539f7c0f-2279-4a27-f5a3-a55e4e3960f6"
      },
      "execution_count": null,
      "outputs": [
        {
          "output_type": "stream",
          "name": "stdout",
          "text": [
            "#### Iníciando a calculadoura de velocidade media ####\n",
            "\n",
            "Por favor digite qual a distancia em km até o seu destino : 40\n",
            "\n",
            "Por favor digite em quantos minutos deseja chegar ao seu destino : 10\n",
            "\n",
            "Para voce chegar no seu destino no tempo estipulado sera necessario uma velocidade media de 240.0 km/h\n"
          ]
        }
      ]
    },
    {
      "cell_type": "code",
      "source": [
        "distancia"
      ],
      "metadata": {
        "colab": {
          "base_uri": "https://localhost:8080/",
          "height": 35
        },
        "id": "R1xF_xoDYARs",
        "outputId": "f57ce064-92b9-43c8-85f1-9322addbc0be"
      },
      "execution_count": null,
      "outputs": [
        {
          "output_type": "execute_result",
          "data": {
            "text/plain": [
              "'2'"
            ],
            "application/vnd.google.colaboratory.intrinsic+json": {
              "type": "string"
            }
          },
          "metadata": {},
          "execution_count": 20
        }
      ]
    },
    {
      "cell_type": "code",
      "source": [
        ""
      ],
      "metadata": {
        "id": "rLF6soPyX_ts"
      },
      "execution_count": null,
      "outputs": []
    },
    {
      "cell_type": "code",
      "source": [
        ""
      ],
      "metadata": {
        "id": "42Hw-j-nX_rl"
      },
      "execution_count": null,
      "outputs": []
    },
    {
      "cell_type": "code",
      "source": [
        ""
      ],
      "metadata": {
        "id": "lzow8HsJX_pt"
      },
      "execution_count": null,
      "outputs": []
    }
  ]
}
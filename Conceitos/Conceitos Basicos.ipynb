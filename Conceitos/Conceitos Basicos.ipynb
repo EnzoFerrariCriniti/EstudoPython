{
  "cells": [
    {
      "cell_type": "markdown",
      "metadata": {
        "id": "4sme2pztQJux"
      },
      "source": [
        "\n",
        "# Blibiotecas\n"
      ]
    },
    {
      "cell_type": "code",
      "execution_count": null,
      "metadata": {
        "id": "xkOByGA7QACK"
      },
      "outputs": [],
      "source": [
        "import numpy as np\n",
        "import random as rnd\n",
        "import matplotlib.pyplot as plt\n",
        "import pandas as pd"
      ]
    },
    {
      "cell_type": "markdown",
      "metadata": {
        "id": "GD_vCcGvPWH8"
      },
      "source": [
        "# Operações Basicas"
      ]
    },
    {
      "cell_type": "code",
      "source": [
        "#Selecionando colunas \n",
        "\n",
        "cols = ['clube', 'ano']\n",
        "df[cols]"
      ],
      "metadata": {
        "id": "nkjIW22ZXtcM"
      },
      "execution_count": null,
      "outputs": []
    },
    {
      "cell_type": "code",
      "source": [
        "#Renomeando colunas\n",
        "\n",
        "df.rename(columns = {'I' : 'Impedimentos' }, inplace = True)"
      ],
      "metadata": {
        "id": "yn333wC6XxHQ"
      },
      "execution_count": null,
      "outputs": []
    },
    {
      "cell_type": "code",
      "source": [
        "#Filtros\n",
        "\n",
        "#Texto\n",
        "\n",
        "df_zagueiros = df[df['posicao'] == 'zag']\n",
        "\n",
        "df_zagueiros.head()\n",
        "\n",
        "#Número\n",
        "\n",
        "df_numerojogos = df[df['jogos_num'] <= 10 ]\n",
        "df_numerojogos.head()\n",
        "\n",
        "#Mais de 1 filtro\n",
        "\n",
        "df[(df['ano'] == 2010) &\\ (df['pais'] == 'Brasil')]\n"
      ],
      "metadata": {
        "id": "hiSsOGRHX3Mn"
      },
      "execution_count": null,
      "outputs": []
    },
    {
      "cell_type": "code",
      "source": [
        "#Apagando colunas especificas \n",
        "df2 = df.drop (columns = ['status_id', 'status'])"
      ],
      "metadata": {
        "id": "pNuo0hLoXwB5"
      },
      "execution_count": null,
      "outputs": []
    },
    {
      "cell_type": "code",
      "source": [
        "#Adicionando nova coluna com uma função \n",
        "df['ln_pop'] = df['populacao'].apply(lambda x : np.log(x))"
      ],
      "metadata": {
        "id": "AlW4dQtbbn9E"
      },
      "execution_count": null,
      "outputs": []
    },
    {
      "cell_type": "code",
      "source": [
        ""
      ],
      "metadata": {
        "id": "mRbLQYHTg9Qv"
      },
      "execution_count": null,
      "outputs": []
    },
    {
      "cell_type": "markdown",
      "metadata": {
        "id": "tXj73IIaSX_K"
      },
      "source": [
        "( ) -> Parenteses sempre para funções \n",
        "\n",
        "[ ] -> Colchetes sempre para listas\n",
        "\n",
        "{ } -> Chaves sempre para dicionario python e arquivos : Json"
      ]
    },
    {
      "cell_type": "code",
      "execution_count": null,
      "metadata": {
        "colab": {
          "base_uri": "https://localhost:8080/"
        },
        "id": "14BFEwJWAOcL",
        "outputId": "bd0d699f-7077-4fa4-e9a5-6cbdd667b9bf"
      },
      "outputs": [
        {
          "data": {
            "text/plain": [
              "9"
            ]
          },
          "execution_count": 3,
          "metadata": {},
          "output_type": "execute_result"
        }
      ],
      "source": [
        "#Soma\n",
        "4+5"
      ]
    },
    {
      "cell_type": "code",
      "execution_count": null,
      "metadata": {
        "colab": {
          "base_uri": "https://localhost:8080/"
        },
        "id": "DEdzUi02AYSf",
        "outputId": "6c4b727c-3b98-43cb-96fc-fa450b5b6b00"
      },
      "outputs": [
        {
          "data": {
            "text/plain": [
              "3"
            ]
          },
          "execution_count": 7,
          "metadata": {},
          "output_type": "execute_result"
        }
      ],
      "source": [
        "#Subtração\n",
        "6-3"
      ]
    },
    {
      "cell_type": "code",
      "execution_count": null,
      "metadata": {
        "colab": {
          "base_uri": "https://localhost:8080/"
        },
        "id": "Zvlsz6Q7AZBu",
        "outputId": "bbac3edf-b519-4dc7-b0df-259c75039fc2"
      },
      "outputs": [
        {
          "data": {
            "text/plain": [
              "18"
            ]
          },
          "execution_count": 8,
          "metadata": {},
          "output_type": "execute_result"
        }
      ],
      "source": [
        "#Multiplicação\n",
        "6*3"
      ]
    },
    {
      "cell_type": "code",
      "execution_count": null,
      "metadata": {
        "colab": {
          "base_uri": "https://localhost:8080/"
        },
        "id": "2OUz-sERPq4Y",
        "outputId": "3a803fda-cfee-4ff6-ae27-ad1dfe4f517b"
      },
      "outputs": [
        {
          "data": {
            "text/plain": [
              "2.0"
            ]
          },
          "execution_count": 9,
          "metadata": {},
          "output_type": "execute_result"
        }
      ],
      "source": [
        "#Divisão\n",
        "6/3"
      ]
    },
    {
      "cell_type": "code",
      "execution_count": null,
      "metadata": {
        "colab": {
          "base_uri": "https://localhost:8080/"
        },
        "id": "JQ86BdkSPtDI",
        "outputId": "2dadd0a6-880f-4b5e-8ab1-c8c737bb5b89"
      },
      "outputs": [
        {
          "data": {
            "text/plain": [
              "9"
            ]
          },
          "execution_count": 10,
          "metadata": {},
          "output_type": "execute_result"
        }
      ],
      "source": [
        "#Potencia\n",
        "\n",
        "3**2"
      ]
    },
    {
      "cell_type": "code",
      "execution_count": null,
      "metadata": {
        "colab": {
          "base_uri": "https://localhost:8080/"
        },
        "id": "q3jOE3gGPzNB",
        "outputId": "90bc4688-2574-4dd9-9fda-898756f56a9f"
      },
      "outputs": [
        {
          "data": {
            "text/plain": [
              "1.6094379124341003"
            ]
          },
          "execution_count": 15,
          "metadata": {},
          "output_type": "execute_result"
        }
      ],
      "source": [
        "#Log\n",
        "np.log(5)"
      ]
    },
    {
      "cell_type": "code",
      "execution_count": null,
      "metadata": {
        "colab": {
          "base_uri": "https://localhost:8080/"
        },
        "id": "amC8vg1kQmjy",
        "outputId": "47ada2f2-a549-4cf8-d391-122e0a0fd223"
      },
      "outputs": [
        {
          "data": {
            "text/plain": [
              "3.0"
            ]
          },
          "execution_count": 16,
          "metadata": {},
          "output_type": "execute_result"
        }
      ],
      "source": [
        "#Raiz quadrada\n",
        "np.sqrt(9)"
      ]
    },
    {
      "cell_type": "code",
      "execution_count": null,
      "metadata": {
        "colab": {
          "base_uri": "https://localhost:8080/"
        },
        "id": "9mIegOGMRUGx",
        "outputId": "48bd5e48-35a4-42d1-db01-c44fc050cc8f"
      },
      "outputs": [
        {
          "data": {
            "text/plain": [
              "[1, 2, 3, 4]"
            ]
          },
          "execution_count": 17,
          "metadata": {},
          "output_type": "execute_result"
        }
      ],
      "source": [
        "#Atribuindo Lista\n",
        "\n",
        "a = [1,2,3,4]\n",
        "a"
      ]
    },
    {
      "cell_type": "code",
      "execution_count": null,
      "metadata": {
        "colab": {
          "base_uri": "https://localhost:8080/"
        },
        "id": "MfkQCQgrZ8HJ",
        "outputId": "70aee3ad-0022-489b-daad-fe4d847fbed9"
      },
      "outputs": [
        {
          "data": {
            "text/plain": [
              "[0, 1, 2, 3, 4, 5, 6, 7, 8, 9, 10]"
            ]
          },
          "execution_count": 49,
          "metadata": {},
          "output_type": "execute_result"
        }
      ],
      "source": [
        "#Lista Sequencia \n",
        "list (range(11))"
      ]
    },
    {
      "cell_type": "code",
      "execution_count": null,
      "metadata": {
        "colab": {
          "base_uri": "https://localhost:8080/"
        },
        "id": "W9H3W9fhanOU",
        "outputId": "47b084ca-be48-4cc1-8d61-5bf362fdeae4"
      },
      "outputs": [
        {
          "data": {
            "text/plain": [
              "[1, 2, 3, 4, 5, 6, 7, 8, 9, 10]"
            ]
          },
          "execution_count": 50,
          "metadata": {},
          "output_type": "execute_result"
        }
      ],
      "source": [
        "list (range(1, 11))"
      ]
    },
    {
      "cell_type": "code",
      "execution_count": null,
      "metadata": {
        "colab": {
          "base_uri": "https://localhost:8080/"
        },
        "id": "7OE6WV4XanRx",
        "outputId": "d9cd4d3f-5e49-4fbb-a47e-6b0d994390f4"
      },
      "outputs": [
        {
          "data": {
            "text/plain": [
              "[1, 3, 5, 7, 9]"
            ]
          },
          "execution_count": 51,
          "metadata": {},
          "output_type": "execute_result"
        }
      ],
      "source": [
        "list (range(1, 11, 2))"
      ]
    },
    {
      "cell_type": "code",
      "execution_count": null,
      "metadata": {
        "id": "c6ySkpScSvPS"
      },
      "outputs": [],
      "source": [
        "#Dicionario\n",
        "\n",
        "pessoa = {'nome': 'Pythonico', 'altura': 1.65, 'idade': 21}\n",
        "\n",
        "print(pessoa['nome'])\n"
      ]
    },
    {
      "cell_type": "markdown",
      "metadata": {
        "id": "yjNHa-pabiPM"
      },
      "source": [
        "Estrutura de um loop\n",
        "\n",
        "For ___ in ___ :\n",
        "  { operação "
      ]
    },
    {
      "cell_type": "code",
      "source": [
        "#Conectando dados (Exemplo)\n",
        "\n",
        "df_dados_paises = pd.read_csv('dados_1997_2011_paises_csv.csv,\n",
        "                  sep = ';',\n",
        "                  enconding = 'latin1',\n",
        "                  decimal = ','\n",
        "                  )\n"
      ],
      "metadata": {
        "id": "tEKslu5eVBj6"
      },
      "execution_count": null,
      "outputs": []
    },
    {
      "cell_type": "markdown",
      "source": [
        "# Mudando Estrutura da Tabela"
      ],
      "metadata": {
        "id": "aU019ZD7ReZn"
      }
    },
    {
      "cell_type": "code",
      "source": [
        "#Pivot\n",
        "df.pivot(index = 'ano', columns = 'pais', values = 'idh')\n",
        "\n"
      ],
      "metadata": {
        "id": "OzDo-acRRi4o"
      },
      "execution_count": null,
      "outputs": []
    },
    {
      "cell_type": "code",
      "source": [
        "#Melt\n",
        "df_melt[(df_melt['pais'] == 'Brasil') & (df_melt['indicadores'] == 'idh')]\n",
        "\n",
        "\n",
        "////////\n",
        "\n",
        "\n",
        "df_melt[(df_melt['pais'] == 'Brasil') & (df_melt['indicadores'] == 'idh')]"
      ],
      "metadata": {
        "id": "m7syHgWdRthT"
      },
      "execution_count": null,
      "outputs": []
    },
    {
      "cell_type": "code",
      "source": [
        "#Concatenando colunas\n",
        "\n",
        "\n",
        "#Usando +\n",
        "df['pais_ano'] = df['pais'] + '-' +df['ano'].astype(str)\n",
        "df[['pais', 'ano', 'pais_ano']]"
      ],
      "metadata": {
        "id": "cRMckZqHSKsV"
      },
      "execution_count": null,
      "outputs": []
    },
    {
      "cell_type": "markdown",
      "metadata": {
        "id": "6jm0UGfUTi6X"
      },
      "source": [
        "# Criar Funções"
      ]
    },
    {
      "cell_type": "markdown",
      "metadata": {
        "id": "DiRppPzCTrAf"
      },
      "source": [
        "Estrutura da função \n",
        "\n",
        "def **nome da função** (Parametros) :     \n",
        "\n",
        "            } operações\n",
        "\n",
        "return \n",
        "\n",
        "(Necessario apenas se quiser retornar valores)"
      ]
    },
    {
      "cell_type": "code",
      "execution_count": null,
      "metadata": {
        "id": "9vyc4tq2Tl23"
      },
      "outputs": [],
      "source": [
        "#Função para Potencia\n",
        "\n",
        "def funcao_potencia(x, potencia):\n",
        "  \n",
        "  return x**potencia"
      ]
    },
    {
      "cell_type": "code",
      "execution_count": null,
      "metadata": {
        "id": "AoAq0eAwUgZN"
      },
      "outputs": [],
      "source": [
        "funcao_potencia(4, 2)"
      ]
    },
    {
      "cell_type": "code",
      "execution_count": null,
      "metadata": {
        "id": "C2PlC_Z6UjWs"
      },
      "outputs": [],
      "source": [
        "#Função para raiz1\n",
        "\n",
        "def funcao_raiz1(x, raiz):\n",
        "\n",
        "    div = 1/raiz\n",
        "\n",
        "    return x**(div)"
      ]
    },
    {
      "cell_type": "code",
      "execution_count": null,
      "metadata": {
        "id": "ZsD71Mi3WsV7"
      },
      "outputs": [],
      "source": [
        "funcao_raiz1(10,3)"
      ]
    },
    {
      "cell_type": "code",
      "execution_count": null,
      "metadata": {
        "id": "VHwid48FXQPx"
      },
      "outputs": [],
      "source": [
        "#Função para raiz 2\n",
        "\n",
        "def funcao_raiz2(x, raiz):\n",
        "    return x**(1/raiz)"
      ]
    },
    {
      "cell_type": "code",
      "execution_count": null,
      "metadata": {
        "id": "6m_8d7b5ZO2e"
      },
      "outputs": [],
      "source": [
        "funcao_raiz2(10,3)"
      ]
    },
    {
      "cell_type": "markdown",
      "metadata": {
        "id": "wE0E_kK0a3eM"
      },
      "source": [
        "# Criação de vetores Listas com valores aleatórios"
      ]
    },
    {
      "cell_type": "code",
      "execution_count": null,
      "metadata": {
        "id": "WWhDVeUda-N9"
      },
      "outputs": [],
      "source": [
        "# loop \n",
        "for i in range(10):\n",
        "   print(i)"
      ]
    },
    {
      "cell_type": "code",
      "execution_count": null,
      "metadata": {
        "id": "HSs7-5X1b3UF"
      },
      "outputs": [],
      "source": [
        "# loop com função\n",
        "for i in range(10):\n",
        "  print(round(rnd.uniform(0,1), 4))\n",
        " "
      ]
    },
    {
      "cell_type": "code",
      "execution_count": null,
      "metadata": {
        "id": "FIZQesATj7j-"
      },
      "outputs": [],
      "source": [
        "# loop com função dentro de uma lista\n",
        "\n",
        "rnd.seed(20) #Salva os números aleatorios\n",
        "\n",
        "lista_final = [(round(rnd.uniform(0,1), 4)) for i in range(10)]\n",
        "\n",
        "lista_final\n"
      ]
    },
    {
      "cell_type": "code",
      "execution_count": null,
      "metadata": {
        "id": "-loUwT53lJkj"
      },
      "outputs": [],
      "source": [
        "#Lista aleatoria com numeros inteiros \n",
        "\n",
        "rnd.sample(range(1,61), 6)"
      ]
    },
    {
      "cell_type": "code",
      "execution_count": null,
      "metadata": {
        "id": "znsAAfvgnWYx"
      },
      "outputs": [],
      "source": [
        ""
      ]
    },
    {
      "cell_type": "markdown",
      "metadata": {
        "id": "Zb6E_p9ro4Ot"
      },
      "source": [
        "# Operações com vetores "
      ]
    },
    {
      "cell_type": "code",
      "execution_count": null,
      "metadata": {
        "id": "sWhBUbaHo7g8"
      },
      "outputs": [],
      "source": [
        "vetor1 = list (range(1,6))\n",
        "vetor1"
      ]
    },
    {
      "cell_type": "code",
      "execution_count": null,
      "metadata": {
        "id": "g_OUhzeVpBRM"
      },
      "outputs": [],
      "source": [
        "rnd.seed(32)\n",
        "vetor2 = rnd.sample(range(1,61), 5)\n",
        "vetor2"
      ]
    },
    {
      "cell_type": "code",
      "execution_count": null,
      "metadata": {
        "id": "Xd8w9EETpBq0"
      },
      "outputs": [],
      "source": [
        "# combinar duas listas\n",
        "\n",
        "vetor1 + vetor2"
      ]
    },
    {
      "cell_type": "code",
      "execution_count": null,
      "metadata": {
        "id": "nQvSkd1EpBxc"
      },
      "outputs": [],
      "source": [
        "# operações com as listas (+, -, *, /)\n",
        "vetornp = np.array(vetor1) + np.array(vetor2)\n",
        "\n",
        "vetornp"
      ]
    },
    {
      "cell_type": "markdown",
      "metadata": {
        "id": "lo8KFg6tr44d"
      },
      "source": [
        "# Matrizes"
      ]
    },
    {
      "cell_type": "code",
      "execution_count": null,
      "metadata": {
        "id": "Ofxu39ZXpB7c"
      },
      "outputs": [],
      "source": [
        "matrizA = np.array([[2,3], [1,4]])\n",
        "matrizA"
      ]
    },
    {
      "cell_type": "code",
      "execution_count": null,
      "metadata": {
        "id": "M8rJebyzqykX"
      },
      "outputs": [],
      "source": [
        "matrizB = np.random.rand(2,2)\n",
        "matrizB                                 #Lista com valores aleatorios"
      ]
    },
    {
      "cell_type": "code",
      "execution_count": null,
      "metadata": {
        "id": "UGQqBooKqyr1"
      },
      "outputs": [],
      "source": [
        "matrizC = matrizA + matrizB  #Operações com matrizes (+,-)\n",
        "\n",
        "plt.plot(matrizC)"
      ]
    },
    {
      "cell_type": "code",
      "execution_count": null,
      "metadata": {
        "id": "b9Aj2Z86r69j"
      },
      "outputs": [],
      "source": [
        "#Multiplicar Matriz\n",
        "\n",
        "matrizA.dot(matrizB)"
      ]
    },
    {
      "cell_type": "markdown",
      "source": [
        "# Graficos"
      ],
      "metadata": {
        "id": "NWVmRAeaS4Sq"
      }
    },
    {
      "cell_type": "code",
      "source": [
        "df = pd.read_csv('dados_1997_2011_paises_csv.csv',\n",
        "                  sep = ';',\n",
        "                  encoding ='latin1',\n",
        "                  decimal = ','\n",
        "                  )\n",
        "\n",
        "df.head()"
      ],
      "metadata": {
        "id": "_I1FFhRuTBdL"
      },
      "execution_count": null,
      "outputs": []
    },
    {
      "cell_type": "code",
      "source": [
        "df_2010 = df[df['ano'] == 2010]\n",
        "df_2010"
      ],
      "metadata": {
        "id": "O3aUgUjoTAZ4"
      },
      "execution_count": null,
      "outputs": []
    },
    {
      "cell_type": "code",
      "source": [
        "df_2010.sort_values('corrupcao_indice', ascending = True).plot.bar(x = 'pais', y = 'corrupcao_indice', legend = False)\n",
        "plt.title('Corrupção por país')\n",
        "plt.xlabel('País')\n",
        "plt.ylabel('Indice de Corrupção')"
      ],
      "metadata": {
        "id": "6AEeRYXGTBWp"
      },
      "execution_count": null,
      "outputs": []
    },
    {
      "cell_type": "code",
      "source": [
        "df_brasil = df[df['pais'] == 'Brasil']\n",
        "df_brasil"
      ],
      "metadata": {
        "id": "mGhlekBdUMmB"
      },
      "execution_count": null,
      "outputs": []
    },
    {
      "cell_type": "code",
      "source": [
        "df_brasil.plot.line(x = 'ano', y = 'idh', legend = False)\n",
        "plt.title('IDH Brasil')\n",
        "plt.xlabel('Ano')\n",
        "plt.ylabel('IDH')"
      ],
      "metadata": {
        "id": "M3tSrnPvUMqB"
      },
      "execution_count": null,
      "outputs": []
    },
    {
      "cell_type": "code",
      "source": [
        "df_brasil.plot.pie(x = 'ano', y = 'idh', legend = False)\n",
        "plt.title('IDH Brasil')\n",
        "plt.xlabel('Pais')\n",
        "plt.ylabel('IDH')"
      ],
      "metadata": {
        "id": "dHO81RZDUMtS"
      },
      "execution_count": null,
      "outputs": []
    },
    {
      "cell_type": "markdown",
      "source": [
        ""
      ],
      "metadata": {
        "id": "gzLd1GRpg9eV"
      }
    },
    {
      "cell_type": "code",
      "source": [
        "def funcao (x,y):\n",
        "  opera = (x*100)/y\n",
        "  return opera"
      ],
      "metadata": {
        "id": "sOBoCEGbUMwt"
      },
      "execution_count": null,
      "outputs": []
    },
    {
      "cell_type": "code",
      "source": [
        "soma_morte = df.groupby('country').agg(soma_morte = pd.NamedAgg('dead', 'sum'))\n",
        "soma_infectados = df.groupby('country').agg(soma_infectados = pd.NamedAgg('infected', 'sum'))\n",
        "soma_infectados = soma_infectados['soma_infectados']\n",
        "soma_morte = soma_morte['soma_morte']"
      ],
      "metadata": {
        "id": "OIGj2sLBhDfd"
      },
      "execution_count": null,
      "outputs": []
    },
    {
      "cell_type": "code",
      "source": [
        "taxa_mortalidade_total = (round(funcao(soma_morte,soma_infectados),2))\n",
        "taxa_mortalidade_total = pd.DataFrame(taxa_mortalidade_total.sort_values(ascending = False))\n",
        "taxa_mortalidade_total"
      ],
      "metadata": {
        "id": "KItnZLfRhDiE"
      },
      "execution_count": null,
      "outputs": []
    }
  ],
  "metadata": {
    "colab": {
      "collapsed_sections": [
        "4sme2pztQJux",
        "6jm0UGfUTi6X",
        "wE0E_kK0a3eM",
        "Zb6E_p9ro4Ot",
        "lo8KFg6tr44d"
      ],
      "name": "Teoria e Conceitos",
      "provenance": []
    },
    "kernelspec": {
      "display_name": "Python 3",
      "name": "python3"
    },
    "language_info": {
      "name": "python"
    }
  },
  "nbformat": 4,
  "nbformat_minor": 0
}
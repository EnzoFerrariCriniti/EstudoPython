{
  "nbformat": 4,
  "nbformat_minor": 0,
  "metadata": {
    "colab": {
      "name": "Estudo.ipynb",
      "provenance": [],
      "collapsed_sections": [
        "RgbxYQfOOcEO",
        "M2KTI2uqPI6u",
        "avEkDOyJRQxN",
        "WMaAu2SoSFE1",
        "ygptPnDlSZWc",
        "Oi4WoHFxTOr3",
        "L2YBF0dcTetN",
        "Y8HvAzl1T1me",
        "r0HlfjbgWy-G",
        "pwpmcPElbCw-",
        "NckPU532hqrN",
        "-EbzDJmB-ZWO"
      ]
    },
    "kernelspec": {
      "name": "python3",
      "display_name": "Python 3"
    },
    "language_info": {
      "name": "python"
    }
  },
  "cells": [
    {
      "cell_type": "markdown",
      "source": [
        "# Anotações e conceitos"
      ],
      "metadata": {
        "id": "RgbxYQfOOcEO"
      }
    },
    {
      "cell_type": "markdown",
      "source": [
        "***Primeiro principio de probabilidade é a contagem de eventos...***\n",
        "\n",
        "***Permutação - a ordem dos elementos importam(exemplo = senha)***\n",
        "\n",
        "***Combinação - a ordem dos elementos não importam***\n",
        "\n",
        "***Condicionalidade - se um evento vim primeiro, pode modificar a probabilidade do segundo evento(exemplo = chance de um cliente novo é maior que trazer um cliente antigo que ja saiu)***"
      ],
      "metadata": {
        "id": "nQYQK17vOg6M"
      }
    },
    {
      "cell_type": "code",
      "execution_count": null,
      "metadata": {
        "id": "MZYkgt5DOXJk"
      },
      "outputs": [],
      "source": [
        "# Geral\n",
        "import pandas as pd\n",
        "import numpy as np\n",
        "\n",
        "# Combinatoria \n",
        "from itertools import product, permutations, combinations, combinations_with_replacement\n",
        "from math import factorial\n",
        "\n",
        "# Probabilidade \n",
        "from scipy.stats import binom #Distribuição binomial\n",
        "\n",
        "import math\n",
        "import matplotlib.pyplot as plt\n",
        "import seaborn as sns\n",
        "\n",
        "# Limites e derivadas \n",
        "import sympy as sp "
      ]
    },
    {
      "cell_type": "markdown",
      "source": [
        "# Exemplo de como fazer uma permutação"
      ],
      "metadata": {
        "id": "M2KTI2uqPI6u"
      }
    },
    {
      "cell_type": "markdown",
      "source": [
        "## Sem repetição"
      ],
      "metadata": {
        "id": "avEkDOyJRQxN"
      }
    },
    {
      "cell_type": "code",
      "source": [
        "cores = ['preta', 'vermelha', 'amarela']"
      ],
      "metadata": {
        "id": "sJRvo5p9PHX6"
      },
      "execution_count": null,
      "outputs": []
    },
    {
      "cell_type": "code",
      "source": [
        "permutacoes = permutations(cores, 3)\n",
        "list(permutacoes)"
      ],
      "metadata": {
        "colab": {
          "base_uri": "https://localhost:8080/"
        },
        "id": "20DNqO7WQSNs",
        "outputId": "038ac464-d22a-40b8-d959-3c6c1f0f7801"
      },
      "execution_count": null,
      "outputs": [
        {
          "output_type": "execute_result",
          "data": {
            "text/plain": [
              "[('preta', 'vermelha', 'amarela'),\n",
              " ('preta', 'amarela', 'vermelha'),\n",
              " ('vermelha', 'preta', 'amarela'),\n",
              " ('vermelha', 'amarela', 'preta'),\n",
              " ('amarela', 'preta', 'vermelha'),\n",
              " ('amarela', 'vermelha', 'preta')]"
            ]
          },
          "metadata": {},
          "execution_count": 3
        }
      ]
    },
    {
      "cell_type": "markdown",
      "source": [
        "- Utilizando o for"
      ],
      "metadata": {
        "id": "GIpK2KqTRhMF"
      }
    },
    {
      "cell_type": "code",
      "source": [
        "for i in list(permutations(cores, 3)):\n",
        "  print(i)"
      ],
      "metadata": {
        "colab": {
          "base_uri": "https://localhost:8080/"
        },
        "id": "73v98z-0QSKZ",
        "outputId": "0dc71308-0731-4579-b1d0-207b606136ca"
      },
      "execution_count": null,
      "outputs": [
        {
          "output_type": "stream",
          "name": "stdout",
          "text": [
            "('preta', 'vermelha', 'amarela')\n",
            "('preta', 'amarela', 'vermelha')\n",
            "('vermelha', 'preta', 'amarela')\n",
            "('vermelha', 'amarela', 'preta')\n",
            "('amarela', 'preta', 'vermelha')\n",
            "('amarela', 'vermelha', 'preta')\n"
          ]
        }
      ]
    },
    {
      "cell_type": "markdown",
      "source": [
        "## Com repetição"
      ],
      "metadata": {
        "id": "WMaAu2SoSFE1"
      }
    },
    {
      "cell_type": "code",
      "source": [
        "perm_repeticao = product(cores, repeat=3)\n",
        "list(perm_repeticao)"
      ],
      "metadata": {
        "colab": {
          "base_uri": "https://localhost:8080/"
        },
        "id": "1Q6P2SuSRvyr",
        "outputId": "9aa0ef10-2bb8-4218-f0fa-e32a3435d8ac"
      },
      "execution_count": null,
      "outputs": [
        {
          "output_type": "execute_result",
          "data": {
            "text/plain": [
              "[('preta', 'preta', 'preta'),\n",
              " ('preta', 'preta', 'vermelha'),\n",
              " ('preta', 'preta', 'amarela'),\n",
              " ('preta', 'vermelha', 'preta'),\n",
              " ('preta', 'vermelha', 'vermelha'),\n",
              " ('preta', 'vermelha', 'amarela'),\n",
              " ('preta', 'amarela', 'preta'),\n",
              " ('preta', 'amarela', 'vermelha'),\n",
              " ('preta', 'amarela', 'amarela'),\n",
              " ('vermelha', 'preta', 'preta'),\n",
              " ('vermelha', 'preta', 'vermelha'),\n",
              " ('vermelha', 'preta', 'amarela'),\n",
              " ('vermelha', 'vermelha', 'preta'),\n",
              " ('vermelha', 'vermelha', 'vermelha'),\n",
              " ('vermelha', 'vermelha', 'amarela'),\n",
              " ('vermelha', 'amarela', 'preta'),\n",
              " ('vermelha', 'amarela', 'vermelha'),\n",
              " ('vermelha', 'amarela', 'amarela'),\n",
              " ('amarela', 'preta', 'preta'),\n",
              " ('amarela', 'preta', 'vermelha'),\n",
              " ('amarela', 'preta', 'amarela'),\n",
              " ('amarela', 'vermelha', 'preta'),\n",
              " ('amarela', 'vermelha', 'vermelha'),\n",
              " ('amarela', 'vermelha', 'amarela'),\n",
              " ('amarela', 'amarela', 'preta'),\n",
              " ('amarela', 'amarela', 'vermelha'),\n",
              " ('amarela', 'amarela', 'amarela')]"
            ]
          },
          "metadata": {},
          "execution_count": 6
        }
      ]
    },
    {
      "cell_type": "markdown",
      "source": [
        "- Utilizando o for"
      ],
      "metadata": {
        "id": "b33640W2SOAC"
      }
    },
    {
      "cell_type": "code",
      "source": [
        "for i in list(product(cores, repeat=3)):\n",
        "  print(i)"
      ],
      "metadata": {
        "colab": {
          "base_uri": "https://localhost:8080/"
        },
        "id": "-bBSDIbBSPRv",
        "outputId": "e08269d9-bea6-452b-bbc6-6d6a34849959"
      },
      "execution_count": null,
      "outputs": [
        {
          "output_type": "stream",
          "name": "stdout",
          "text": [
            "('preta', 'preta', 'preta')\n",
            "('preta', 'preta', 'vermelha')\n",
            "('preta', 'preta', 'amarela')\n",
            "('preta', 'vermelha', 'preta')\n",
            "('preta', 'vermelha', 'vermelha')\n",
            "('preta', 'vermelha', 'amarela')\n",
            "('preta', 'amarela', 'preta')\n",
            "('preta', 'amarela', 'vermelha')\n",
            "('preta', 'amarela', 'amarela')\n",
            "('vermelha', 'preta', 'preta')\n",
            "('vermelha', 'preta', 'vermelha')\n",
            "('vermelha', 'preta', 'amarela')\n",
            "('vermelha', 'vermelha', 'preta')\n",
            "('vermelha', 'vermelha', 'vermelha')\n",
            "('vermelha', 'vermelha', 'amarela')\n",
            "('vermelha', 'amarela', 'preta')\n",
            "('vermelha', 'amarela', 'vermelha')\n",
            "('vermelha', 'amarela', 'amarela')\n",
            "('amarela', 'preta', 'preta')\n",
            "('amarela', 'preta', 'vermelha')\n",
            "('amarela', 'preta', 'amarela')\n",
            "('amarela', 'vermelha', 'preta')\n",
            "('amarela', 'vermelha', 'vermelha')\n",
            "('amarela', 'vermelha', 'amarela')\n",
            "('amarela', 'amarela', 'preta')\n",
            "('amarela', 'amarela', 'vermelha')\n",
            "('amarela', 'amarela', 'amarela')\n"
          ]
        }
      ]
    },
    {
      "cell_type": "markdown",
      "source": [
        "# Formula para obter a quantidade de permutações "
      ],
      "metadata": {
        "id": "ygptPnDlSZWc"
      }
    },
    {
      "cell_type": "code",
      "source": [
        "def permutacao(n, r, repeticao = False):\n",
        "  if repeticao is True:\n",
        "    return n**r\n",
        "  else:\n",
        "    return factorial(n) / factorial(n-r)"
      ],
      "metadata": {
        "id": "1G_YzPasSeWy"
      },
      "execution_count": null,
      "outputs": []
    },
    {
      "cell_type": "code",
      "source": [
        "#Contagem de permutação sem repetição\n",
        "permutacao(21, 3)"
      ],
      "metadata": {
        "colab": {
          "base_uri": "https://localhost:8080/"
        },
        "id": "oVVOB8LBSjA_",
        "outputId": "25480f07-0f80-4c35-fa7b-a2b03f413503"
      },
      "execution_count": null,
      "outputs": [
        {
          "output_type": "execute_result",
          "data": {
            "text/plain": [
              "7980.0"
            ]
          },
          "metadata": {},
          "execution_count": 10
        }
      ]
    },
    {
      "cell_type": "code",
      "source": [
        "#Contagem de permutação com repetição\n",
        "permutacao(21, 3, repeticao=True)"
      ],
      "metadata": {
        "colab": {
          "base_uri": "https://localhost:8080/"
        },
        "id": "wERpyIn8SvtX",
        "outputId": "249c4f9a-004c-47ad-f3d5-d907b4d8e275"
      },
      "execution_count": null,
      "outputs": [
        {
          "output_type": "execute_result",
          "data": {
            "text/plain": [
              "9261"
            ]
          },
          "metadata": {},
          "execution_count": 11
        }
      ]
    },
    {
      "cell_type": "code",
      "source": [
        "permutacao(n = 10, # 10 maneiras de arranjar\n",
        "                   r = 6, # escolher 6 numeros\n",
        "                   repeticao = False # nao pode repetir o numero\n",
        "                   )"
      ],
      "metadata": {
        "colab": {
          "base_uri": "https://localhost:8080/"
        },
        "id": "pfSgNG-DYJyN",
        "outputId": "1b9e6a78-2991-426e-dd72-56962ac71565"
      },
      "execution_count": null,
      "outputs": [
        {
          "output_type": "execute_result",
          "data": {
            "text/plain": [
              "151200.0"
            ]
          },
          "metadata": {},
          "execution_count": 17
        }
      ]
    },
    {
      "cell_type": "markdown",
      "source": [
        "# Exemplo de como fazer uma combinação"
      ],
      "metadata": {
        "id": "VDP59IZCTFOa"
      }
    },
    {
      "cell_type": "markdown",
      "source": [
        "## Sem repetição"
      ],
      "metadata": {
        "id": "Oi4WoHFxTOr3"
      }
    },
    {
      "cell_type": "code",
      "source": [
        "alunos = ['bianca', 'camila', 'miguel', 'enzo']"
      ],
      "metadata": {
        "id": "lNhycxADTJzq"
      },
      "execution_count": null,
      "outputs": []
    },
    {
      "cell_type": "code",
      "source": [
        "combinacao = combinations(alunos,2)\n",
        "list(combinacao)"
      ],
      "metadata": {
        "colab": {
          "base_uri": "https://localhost:8080/"
        },
        "id": "ytPLrWQzTQy9",
        "outputId": "60e4221c-66d1-48e7-a93e-940b292cd032"
      },
      "execution_count": null,
      "outputs": [
        {
          "output_type": "execute_result",
          "data": {
            "text/plain": [
              "[('bianca', 'camila'),\n",
              " ('bianca', 'miguel'),\n",
              " ('bianca', 'enzo'),\n",
              " ('camila', 'miguel'),\n",
              " ('camila', 'enzo'),\n",
              " ('miguel', 'enzo')]"
            ]
          },
          "metadata": {},
          "execution_count": 13
        }
      ]
    },
    {
      "cell_type": "markdown",
      "source": [
        "## Com repetição"
      ],
      "metadata": {
        "id": "L2YBF0dcTetN"
      }
    },
    {
      "cell_type": "code",
      "source": [
        "list(combinations_with_replacement(alunos,2))"
      ],
      "metadata": {
        "colab": {
          "base_uri": "https://localhost:8080/"
        },
        "id": "YJX1sXAwTXcq",
        "outputId": "327b0831-4762-4e84-b5a5-f7382b6a36d9"
      },
      "execution_count": null,
      "outputs": [
        {
          "output_type": "execute_result",
          "data": {
            "text/plain": [
              "[('bianca', 'bianca'),\n",
              " ('bianca', 'camila'),\n",
              " ('bianca', 'miguel'),\n",
              " ('bianca', 'enzo'),\n",
              " ('camila', 'camila'),\n",
              " ('camila', 'miguel'),\n",
              " ('camila', 'enzo'),\n",
              " ('miguel', 'miguel'),\n",
              " ('miguel', 'enzo'),\n",
              " ('enzo', 'enzo')]"
            ]
          },
          "metadata": {},
          "execution_count": 14
        }
      ]
    },
    {
      "cell_type": "markdown",
      "source": [
        "# Formula para obter a quantidade das combinações"
      ],
      "metadata": {
        "id": "Y8HvAzl1T1me"
      }
    },
    {
      "cell_type": "code",
      "source": [
        "def combinacao (n,k,repeticao = False):\n",
        "  if repeticao is False:\n",
        "    #com repeticao\n",
        "    return factorial(n) / (factorial(k) * factorial(n-k))\n",
        "  else:\n",
        "    #sem repeticao\n",
        "    return factorial(n+k-1)/ (factorial(k) * factorial(n-1))"
      ],
      "metadata": {
        "id": "RVhbwrr-T4pO"
      },
      "execution_count": null,
      "outputs": []
    },
    {
      "cell_type": "code",
      "source": [
        "combinacao(4,2, repeticao = True)"
      ],
      "metadata": {
        "colab": {
          "base_uri": "https://localhost:8080/"
        },
        "id": "12JEzo5yUAY_",
        "outputId": "e6230dcf-2195-4672-9616-aaf3cbbb0a78"
      },
      "execution_count": null,
      "outputs": [
        {
          "output_type": "execute_result",
          "data": {
            "text/plain": [
              "10.0"
            ]
          },
          "metadata": {},
          "execution_count": 17
        }
      ]
    },
    {
      "cell_type": "code",
      "source": [
        "combinacao(21,3)"
      ],
      "metadata": {
        "colab": {
          "base_uri": "https://localhost:8080/"
        },
        "id": "FjI-WNMMUJ3Z",
        "outputId": "91c08207-dd12-4624-a834-32835b93dca2"
      },
      "execution_count": null,
      "outputs": [
        {
          "output_type": "execute_result",
          "data": {
            "text/plain": [
              "1330.0"
            ]
          },
          "metadata": {},
          "execution_count": 18
        }
      ]
    },
    {
      "cell_type": "code",
      "source": [
        "combinacao(n = 60, # 60 maneiras de arranjar\n",
        "                   k = 6, # escolher 6 numeros\n",
        "                   repeticao = False # nao pode repetir o numero\n",
        "                   )"
      ],
      "metadata": {
        "colab": {
          "base_uri": "https://localhost:8080/"
        },
        "id": "bax-u4WLXQ6e",
        "outputId": "8a06349b-3572-4e3b-83d3-31c337624a6e"
      },
      "execution_count": null,
      "outputs": [
        {
          "output_type": "execute_result",
          "data": {
            "text/plain": [
              "50063860.0"
            ]
          },
          "metadata": {},
          "execution_count": 18
        }
      ]
    },
    {
      "cell_type": "markdown",
      "source": [
        "# Distribuição de probabilidade "
      ],
      "metadata": {
        "id": "r0HlfjbgWy-G"
      }
    },
    {
      "cell_type": "markdown",
      "source": [
        "![Capturar.PNG](data:image/png;base64,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)\n",
        "\n",
        "- Vamos cobrar 5 pessoas"
      ],
      "metadata": {
        "id": "RfXg_eKvWvIj"
      }
    },
    {
      "cell_type": "markdown",
      "source": [
        "![Capturar2.PNG](data:image/png;base64,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)\n",
        "\n",
        "- Este é um problema em combinação \n",
        "\n",
        "- Com base nisso podemos obter os seguintes valores de combinação por meio dos calculos matematicos"
      ],
      "metadata": {
        "id": "dk4tsezRXPqB"
      }
    },
    {
      "cell_type": "markdown",
      "source": [
        "![Capturar5.PNG](data:image/png;base64,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)"
      ],
      "metadata": {
        "id": "jE1yO6XPXiko"
      }
    },
    {
      "cell_type": "markdown",
      "source": [
        "- Vamos transformar essa analise em python"
      ],
      "metadata": {
        "id": "as7SFQiHYv57"
      }
    },
    {
      "cell_type": "code",
      "source": [
        "#Formula da combinação\n",
        "def formula_combinacao (n,k,repeticao = False):\n",
        "  if repeticao is False:\n",
        "    return factorial(n) / (factorial(k) * factorial (n-k))\n",
        "  else:\n",
        "    return factorial(n+k - 1) / (factorial(k) * factorial (n-1))"
      ],
      "metadata": {
        "id": "BjolPCyVWwvx"
      },
      "execution_count": null,
      "outputs": []
    },
    {
      "cell_type": "code",
      "source": [
        "#Aqui obtemos a quantidade de combinações possiveis (5=Pessoas/0=Sucessos)\n",
        "formula_combinacao(5,0)"
      ],
      "metadata": {
        "colab": {
          "base_uri": "https://localhost:8080/"
        },
        "id": "Ngzx6Ee_Y3DJ",
        "outputId": "3eaa4fcf-4dd4-4d21-a74f-571e048fd163"
      },
      "execution_count": null,
      "outputs": [
        {
          "output_type": "execute_result",
          "data": {
            "text/plain": [
              "1.0"
            ]
          },
          "metadata": {},
          "execution_count": 42
        }
      ]
    },
    {
      "cell_type": "code",
      "source": [
        "n = 5\n",
        "for i in range(n+1):\n",
        "  print(formula_combinacao(n, k = i))"
      ],
      "metadata": {
        "colab": {
          "base_uri": "https://localhost:8080/"
        },
        "id": "6elkfmZtay8k",
        "outputId": "e9590269-dba4-4f16-87a9-63ff606122bf"
      },
      "execution_count": null,
      "outputs": [
        {
          "output_type": "stream",
          "name": "stdout",
          "text": [
            "1.0\n",
            "5.0\n",
            "10.0\n",
            "10.0\n",
            "5.0\n",
            "1.0\n"
          ]
        }
      ]
    },
    {
      "cell_type": "markdown",
      "source": [
        "![Capturar3.PNG](data:image/png;base64,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)\n",
        "\n",
        "- Vamos obter a probabilidade de cada evento de combinação acontecer "
      ],
      "metadata": {
        "id": "Poe08SHWbdm9"
      }
    },
    {
      "cell_type": "code",
      "source": [
        "def formula_bernoulli(p,n, k):\n",
        "  return (p**k) * ((1-p) ** (n-k))"
      ],
      "metadata": {
        "id": "IrqU0CnmbVej"
      },
      "execution_count": null,
      "outputs": []
    },
    {
      "cell_type": "code",
      "source": [
        "n = 5\n",
        "p = 0.8\n",
        "# O valor de p é referente a chance de sucesso que temos de cobrar uma pessoa \n",
        "# Nesse caso temos 80% de chance, p(1) = 0,8 e p(0) = 0,2\n",
        "\n",
        "for i in range(n+1):\n",
        "  probabilidade = formula_bernoulli(p = p, n = n, k = i)\n",
        "  print(round(probabilidade, 5))"
      ],
      "metadata": {
        "colab": {
          "base_uri": "https://localhost:8080/"
        },
        "id": "nLwPpLqJb0Az",
        "outputId": "823c474d-eeb0-4f7d-8ae0-39d8e126165c"
      },
      "execution_count": null,
      "outputs": [
        {
          "output_type": "stream",
          "name": "stdout",
          "text": [
            "0.00032\n",
            "0.00128\n",
            "0.00512\n",
            "0.02048\n",
            "0.08192\n",
            "0.32768\n"
          ]
        }
      ]
    },
    {
      "cell_type": "code",
      "source": [
        "tamanho_amostra = 5\n",
        "p = 0.8"
      ],
      "metadata": {
        "id": "YAxLcQXIaS3R"
      },
      "execution_count": null,
      "outputs": []
    },
    {
      "cell_type": "code",
      "source": [
        "n_sucessos = [i for i in range(tamanho_amostra+1)]"
      ],
      "metadata": {
        "id": "_SICe_f2aUP3"
      },
      "execution_count": null,
      "outputs": []
    },
    {
      "cell_type": "code",
      "source": [
        "dados = pd.DataFrame(n_sucessos, columns=['n_sucessos'])"
      ],
      "metadata": {
        "id": "TT647y4MaYg_"
      },
      "execution_count": null,
      "outputs": []
    },
    {
      "cell_type": "code",
      "source": [
        "dados['probs']= dados['n_sucessos'].apply(lambda x: binom.pmf(k=x, n = tamanho_amostra, p = p))"
      ],
      "metadata": {
        "id": "MBNVwFcIahPT"
      },
      "execution_count": null,
      "outputs": []
    },
    {
      "cell_type": "code",
      "source": [
        "dados"
      ],
      "metadata": {
        "colab": {
          "base_uri": "https://localhost:8080/"
        },
        "id": "zO12FJq8apOG",
        "outputId": "fee47884-82ce-4ba7-9965-5abfb5147d88"
      },
      "execution_count": null,
      "outputs": [
        {
          "output_type": "execute_result",
          "data": {
            "text/plain": [
              "   n_sucessos    probs\n",
              "0           0  0.00032\n",
              "1           1  0.00640\n",
              "2           2  0.05120\n",
              "3           3  0.20480\n",
              "4           4  0.40960\n",
              "5           5  0.32768"
            ],
            "text/html": [
              "\n",
              "  <div id=\"df-cb6ed788-f204-42cd-869e-6dcdc49fce6d\">\n",
              "    <div class=\"colab-df-container\">\n",
              "      <div>\n",
              "<style scoped>\n",
              "    .dataframe tbody tr th:only-of-type {\n",
              "        vertical-align: middle;\n",
              "    }\n",
              "\n",
              "    .dataframe tbody tr th {\n",
              "        vertical-align: top;\n",
              "    }\n",
              "\n",
              "    .dataframe thead th {\n",
              "        text-align: right;\n",
              "    }\n",
              "</style>\n",
              "<table border=\"1\" class=\"dataframe\">\n",
              "  <thead>\n",
              "    <tr style=\"text-align: right;\">\n",
              "      <th></th>\n",
              "      <th>n_sucessos</th>\n",
              "      <th>probs</th>\n",
              "    </tr>\n",
              "  </thead>\n",
              "  <tbody>\n",
              "    <tr>\n",
              "      <th>0</th>\n",
              "      <td>0</td>\n",
              "      <td>0.00032</td>\n",
              "    </tr>\n",
              "    <tr>\n",
              "      <th>1</th>\n",
              "      <td>1</td>\n",
              "      <td>0.00640</td>\n",
              "    </tr>\n",
              "    <tr>\n",
              "      <th>2</th>\n",
              "      <td>2</td>\n",
              "      <td>0.05120</td>\n",
              "    </tr>\n",
              "    <tr>\n",
              "      <th>3</th>\n",
              "      <td>3</td>\n",
              "      <td>0.20480</td>\n",
              "    </tr>\n",
              "    <tr>\n",
              "      <th>4</th>\n",
              "      <td>4</td>\n",
              "      <td>0.40960</td>\n",
              "    </tr>\n",
              "    <tr>\n",
              "      <th>5</th>\n",
              "      <td>5</td>\n",
              "      <td>0.32768</td>\n",
              "    </tr>\n",
              "  </tbody>\n",
              "</table>\n",
              "</div>\n",
              "      <button class=\"colab-df-convert\" onclick=\"convertToInteractive('df-cb6ed788-f204-42cd-869e-6dcdc49fce6d')\"\n",
              "              title=\"Convert this dataframe to an interactive table.\"\n",
              "              style=\"display:none;\">\n",
              "        \n",
              "  <svg xmlns=\"http://www.w3.org/2000/svg\" height=\"24px\"viewBox=\"0 0 24 24\"\n",
              "       width=\"24px\">\n",
              "    <path d=\"M0 0h24v24H0V0z\" fill=\"none\"/>\n",
              "    <path d=\"M18.56 5.44l.94 2.06.94-2.06 2.06-.94-2.06-.94-.94-2.06-.94 2.06-2.06.94zm-11 1L8.5 8.5l.94-2.06 2.06-.94-2.06-.94L8.5 2.5l-.94 2.06-2.06.94zm10 10l.94 2.06.94-2.06 2.06-.94-2.06-.94-.94-2.06-.94 2.06-2.06.94z\"/><path d=\"M17.41 7.96l-1.37-1.37c-.4-.4-.92-.59-1.43-.59-.52 0-1.04.2-1.43.59L10.3 9.45l-7.72 7.72c-.78.78-.78 2.05 0 2.83L4 21.41c.39.39.9.59 1.41.59.51 0 1.02-.2 1.41-.59l7.78-7.78 2.81-2.81c.8-.78.8-2.07 0-2.86zM5.41 20L4 18.59l7.72-7.72 1.47 1.35L5.41 20z\"/>\n",
              "  </svg>\n",
              "      </button>\n",
              "      \n",
              "  <style>\n",
              "    .colab-df-container {\n",
              "      display:flex;\n",
              "      flex-wrap:wrap;\n",
              "      gap: 12px;\n",
              "    }\n",
              "\n",
              "    .colab-df-convert {\n",
              "      background-color: #E8F0FE;\n",
              "      border: none;\n",
              "      border-radius: 50%;\n",
              "      cursor: pointer;\n",
              "      display: none;\n",
              "      fill: #1967D2;\n",
              "      height: 32px;\n",
              "      padding: 0 0 0 0;\n",
              "      width: 32px;\n",
              "    }\n",
              "\n",
              "    .colab-df-convert:hover {\n",
              "      background-color: #E2EBFA;\n",
              "      box-shadow: 0px 1px 2px rgba(60, 64, 67, 0.3), 0px 1px 3px 1px rgba(60, 64, 67, 0.15);\n",
              "      fill: #174EA6;\n",
              "    }\n",
              "\n",
              "    [theme=dark] .colab-df-convert {\n",
              "      background-color: #3B4455;\n",
              "      fill: #D2E3FC;\n",
              "    }\n",
              "\n",
              "    [theme=dark] .colab-df-convert:hover {\n",
              "      background-color: #434B5C;\n",
              "      box-shadow: 0px 1px 3px 1px rgba(0, 0, 0, 0.15);\n",
              "      filter: drop-shadow(0px 1px 2px rgba(0, 0, 0, 0.3));\n",
              "      fill: #FFFFFF;\n",
              "    }\n",
              "  </style>\n",
              "\n",
              "      <script>\n",
              "        const buttonEl =\n",
              "          document.querySelector('#df-cb6ed788-f204-42cd-869e-6dcdc49fce6d button.colab-df-convert');\n",
              "        buttonEl.style.display =\n",
              "          google.colab.kernel.accessAllowed ? 'block' : 'none';\n",
              "\n",
              "        async function convertToInteractive(key) {\n",
              "          const element = document.querySelector('#df-cb6ed788-f204-42cd-869e-6dcdc49fce6d');\n",
              "          const dataTable =\n",
              "            await google.colab.kernel.invokeFunction('convertToInteractive',\n",
              "                                                     [key], {});\n",
              "          if (!dataTable) return;\n",
              "\n",
              "          const docLinkHtml = 'Like what you see? Visit the ' +\n",
              "            '<a target=\"_blank\" href=https://colab.research.google.com/notebooks/data_table.ipynb>data table notebook</a>'\n",
              "            + ' to learn more about interactive tables.';\n",
              "          element.innerHTML = '';\n",
              "          dataTable['output_type'] = 'display_data';\n",
              "          await google.colab.output.renderOutput(dataTable, element);\n",
              "          const docLink = document.createElement('div');\n",
              "          docLink.innerHTML = docLinkHtml;\n",
              "          element.appendChild(docLink);\n",
              "        }\n",
              "      </script>\n",
              "    </div>\n",
              "  </div>\n",
              "  "
            ]
          },
          "metadata": {},
          "execution_count": 30
        }
      ]
    },
    {
      "cell_type": "code",
      "source": [
        "dados.plot(kind='bar', \n",
        "           x = 'n_sucessos', \n",
        "           y = 'probs', \n",
        "           legend = None)"
      ],
      "metadata": {
        "colab": {
          "base_uri": "https://localhost:8080/"
        },
        "id": "YB9zGm53arvm",
        "outputId": "e7590297-56fb-4a38-d622-bbd88ec23e9d"
      },
      "execution_count": null,
      "outputs": [
        {
          "output_type": "execute_result",
          "data": {
            "text/plain": [
              "<matplotlib.axes._subplots.AxesSubplot at 0x7f17bdc7bc50>"
            ]
          },
          "metadata": {},
          "execution_count": 31
        },
        {
          "output_type": "display_data",
          "data": {
            "text/plain": [
              "<Figure size 432x288 with 1 Axes>"
            ],
            "image/png": "[encoded data removed]"
          },
          "metadata": {
            "needs_background": "light"
          }
        }
      ]
    },
    {
      "cell_type": "markdown",
      "source": [
        "## Segundo jeito"
      ],
      "metadata": {
        "id": "pwpmcPElbCw-"
      }
    },
    {
      "cell_type": "code",
      "source": [
        "lista = []"
      ],
      "metadata": {
        "id": "XxIyiRpO3kK-"
      },
      "execution_count": null,
      "outputs": []
    },
    {
      "cell_type": "code",
      "source": [
        "for i in range (n+1):\n",
        "  combinacoes = combinacao(n, k = i)\n",
        "  probabilidade = formula_bernoulli(p=p, n=n, k=i)\n",
        "  lista.append(float(combinacoes * probabilidade))"
      ],
      "metadata": {
        "id": "X7V48AXL3kMf"
      },
      "execution_count": null,
      "outputs": []
    },
    {
      "cell_type": "code",
      "source": [
        "lista"
      ],
      "metadata": {
        "colab": {
          "base_uri": "https://localhost:8080/"
        },
        "id": "spBbh17nBrtw",
        "outputId": "6501d2bf-8bec-48ab-bcd4-82ca52aeb420"
      },
      "execution_count": null,
      "outputs": [
        {
          "output_type": "execute_result",
          "data": {
            "text/plain": [
              "[]"
            ]
          },
          "metadata": {},
          "execution_count": 35
        }
      ]
    },
    {
      "cell_type": "code",
      "source": [
        "type(lista)"
      ],
      "metadata": {
        "colab": {
          "base_uri": "https://localhost:8080/"
        },
        "id": "RxOEXFYj3kF-",
        "outputId": "2d092bb4-322a-4fe9-8283-a6f23d007f45"
      },
      "execution_count": null,
      "outputs": [
        {
          "output_type": "execute_result",
          "data": {
            "text/plain": [
              "list"
            ]
          },
          "metadata": {},
          "execution_count": 36
        }
      ]
    },
    {
      "cell_type": "code",
      "source": [
        "lista = pd.DataFrame(lista)"
      ],
      "metadata": {
        "id": "-e_FuGX-3kDe"
      },
      "execution_count": null,
      "outputs": []
    },
    {
      "cell_type": "code",
      "source": [
        "lista = round(lista[0],3)*100"
      ],
      "metadata": {
        "id": "fI56iAb93kAW"
      },
      "execution_count": null,
      "outputs": []
    },
    {
      "cell_type": "code",
      "source": [
        "lista = pd.DataFrame(lista)\n",
        "lista = lista.reset_index()\n",
        "lista"
      ],
      "metadata": {
        "colab": {
          "base_uri": "https://localhost:8080/"
        },
        "id": "w_QCEmsrCFqJ",
        "outputId": "8f1c4968-7ab5-4d65-ff12-43be67aad12c"
      },
      "execution_count": null,
      "outputs": [
        {
          "output_type": "execute_result",
          "data": {
            "text/plain": [
              "   index     0\n",
              "0      0   0.0\n",
              "1      1   0.6\n",
              "2      2   5.1\n",
              "3      3  20.5\n",
              "4      4  41.0\n",
              "5      5  32.8"
            ],
            "text/html": [
              "\n",
              "  <div id=\"df-a3a0412a-a074-48b9-8b84-5fd350ccf346\">\n",
              "    <div class=\"colab-df-container\">\n",
              "      <div>\n",
              "<style scoped>\n",
              "    .dataframe tbody tr th:only-of-type {\n",
              "        vertical-align: middle;\n",
              "    }\n",
              "\n",
              "    .dataframe tbody tr th {\n",
              "        vertical-align: top;\n",
              "    }\n",
              "\n",
              "    .dataframe thead th {\n",
              "        text-align: right;\n",
              "    }\n",
              "</style>\n",
              "<table border=\"1\" class=\"dataframe\">\n",
              "  <thead>\n",
              "    <tr style=\"text-align: right;\">\n",
              "      <th></th>\n",
              "      <th>index</th>\n",
              "      <th>0</th>\n",
              "    </tr>\n",
              "  </thead>\n",
              "  <tbody>\n",
              "    <tr>\n",
              "      <th>0</th>\n",
              "      <td>0</td>\n",
              "      <td>0.0</td>\n",
              "    </tr>\n",
              "    <tr>\n",
              "      <th>1</th>\n",
              "      <td>1</td>\n",
              "      <td>0.6</td>\n",
              "    </tr>\n",
              "    <tr>\n",
              "      <th>2</th>\n",
              "      <td>2</td>\n",
              "      <td>5.1</td>\n",
              "    </tr>\n",
              "    <tr>\n",
              "      <th>3</th>\n",
              "      <td>3</td>\n",
              "      <td>20.5</td>\n",
              "    </tr>\n",
              "    <tr>\n",
              "      <th>4</th>\n",
              "      <td>4</td>\n",
              "      <td>41.0</td>\n",
              "    </tr>\n",
              "    <tr>\n",
              "      <th>5</th>\n",
              "      <td>5</td>\n",
              "      <td>32.8</td>\n",
              "    </tr>\n",
              "  </tbody>\n",
              "</table>\n",
              "</div>\n",
              "      <button class=\"colab-df-convert\" onclick=\"convertToInteractive('df-a3a0412a-a074-48b9-8b84-5fd350ccf346')\"\n",
              "              title=\"Convert this dataframe to an interactive table.\"\n",
              "              style=\"display:none;\">\n",
              "        \n",
              "  <svg xmlns=\"http://www.w3.org/2000/svg\" height=\"24px\"viewBox=\"0 0 24 24\"\n",
              "       width=\"24px\">\n",
              "    <path d=\"M0 0h24v24H0V0z\" fill=\"none\"/>\n",
              "    <path d=\"M18.56 5.44l.94 2.06.94-2.06 2.06-.94-2.06-.94-.94-2.06-.94 2.06-2.06.94zm-11 1L8.5 8.5l.94-2.06 2.06-.94-2.06-.94L8.5 2.5l-.94 2.06-2.06.94zm10 10l.94 2.06.94-2.06 2.06-.94-2.06-.94-.94-2.06-.94 2.06-2.06.94z\"/><path d=\"M17.41 7.96l-1.37-1.37c-.4-.4-.92-.59-1.43-.59-.52 0-1.04.2-1.43.59L10.3 9.45l-7.72 7.72c-.78.78-.78 2.05 0 2.83L4 21.41c.39.39.9.59 1.41.59.51 0 1.02-.2 1.41-.59l7.78-7.78 2.81-2.81c.8-.78.8-2.07 0-2.86zM5.41 20L4 18.59l7.72-7.72 1.47 1.35L5.41 20z\"/>\n",
              "  </svg>\n",
              "      </button>\n",
              "      \n",
              "  <style>\n",
              "    .colab-df-container {\n",
              "      display:flex;\n",
              "      flex-wrap:wrap;\n",
              "      gap: 12px;\n",
              "    }\n",
              "\n",
              "    .colab-df-convert {\n",
              "      background-color: #E8F0FE;\n",
              "      border: none;\n",
              "      border-radius: 50%;\n",
              "      cursor: pointer;\n",
              "      display: none;\n",
              "      fill: #1967D2;\n",
              "      height: 32px;\n",
              "      padding: 0 0 0 0;\n",
              "      width: 32px;\n",
              "    }\n",
              "\n",
              "    .colab-df-convert:hover {\n",
              "      background-color: #E2EBFA;\n",
              "      box-shadow: 0px 1px 2px rgba(60, 64, 67, 0.3), 0px 1px 3px 1px rgba(60, 64, 67, 0.15);\n",
              "      fill: #174EA6;\n",
              "    }\n",
              "\n",
              "    [theme=dark] .colab-df-convert {\n",
              "      background-color: #3B4455;\n",
              "      fill: #D2E3FC;\n",
              "    }\n",
              "\n",
              "    [theme=dark] .colab-df-convert:hover {\n",
              "      background-color: #434B5C;\n",
              "      box-shadow: 0px 1px 3px 1px rgba(0, 0, 0, 0.15);\n",
              "      filter: drop-shadow(0px 1px 2px rgba(0, 0, 0, 0.3));\n",
              "      fill: #FFFFFF;\n",
              "    }\n",
              "  </style>\n",
              "\n",
              "      <script>\n",
              "        const buttonEl =\n",
              "          document.querySelector('#df-a3a0412a-a074-48b9-8b84-5fd350ccf346 button.colab-df-convert');\n",
              "        buttonEl.style.display =\n",
              "          google.colab.kernel.accessAllowed ? 'block' : 'none';\n",
              "\n",
              "        async function convertToInteractive(key) {\n",
              "          const element = document.querySelector('#df-a3a0412a-a074-48b9-8b84-5fd350ccf346');\n",
              "          const dataTable =\n",
              "            await google.colab.kernel.invokeFunction('convertToInteractive',\n",
              "                                                     [key], {});\n",
              "          if (!dataTable) return;\n",
              "\n",
              "          const docLinkHtml = 'Like what you see? Visit the ' +\n",
              "            '<a target=\"_blank\" href=https://colab.research.google.com/notebooks/data_table.ipynb>data table notebook</a>'\n",
              "            + ' to learn more about interactive tables.';\n",
              "          element.innerHTML = '';\n",
              "          dataTable['output_type'] = 'display_data';\n",
              "          await google.colab.output.renderOutput(dataTable, element);\n",
              "          const docLink = document.createElement('div');\n",
              "          docLink.innerHTML = docLinkHtml;\n",
              "          element.appendChild(docLink);\n",
              "        }\n",
              "      </script>\n",
              "    </div>\n",
              "  </div>\n",
              "  "
            ]
          },
          "metadata": {},
          "execution_count": 40
        }
      ]
    },
    {
      "cell_type": "code",
      "source": [
        "lista.rename(columns = {'index' : 'NumeroSucessos' }, inplace = True)"
      ],
      "metadata": {
        "id": "tqxSNoBsDWKY"
      },
      "execution_count": null,
      "outputs": []
    },
    {
      "cell_type": "code",
      "source": [
        "lista.columns"
      ],
      "metadata": {
        "colab": {
          "base_uri": "https://localhost:8080/"
        },
        "id": "Z7ua-RgwEJXc",
        "outputId": "f2132e60-fd3c-4197-c663-b5a8124253b5"
      },
      "execution_count": null,
      "outputs": [
        {
          "output_type": "execute_result",
          "data": {
            "text/plain": [
              "Index(['NumeroSucessos', 0], dtype='object')"
            ]
          },
          "metadata": {},
          "execution_count": 42
        }
      ]
    },
    {
      "cell_type": "code",
      "source": [
        "lista.rename(columns = {0 : 'probabilidade' }, inplace = True)"
      ],
      "metadata": {
        "id": "J7XaGQyiEjdF"
      },
      "execution_count": null,
      "outputs": []
    },
    {
      "cell_type": "code",
      "source": [
        "lista"
      ],
      "metadata": {
        "colab": {
          "base_uri": "https://localhost:8080/"
        },
        "id": "IIdCC897Ehjt",
        "outputId": "15cbf959-dba5-429d-89e3-69635b292281"
      },
      "execution_count": null,
      "outputs": [
        {
          "output_type": "execute_result",
          "data": {
            "text/plain": [
              "   NumeroSucessos  probabilidade\n",
              "0               0            0.0\n",
              "1               1            0.6\n",
              "2               2            5.1\n",
              "3               3           20.5\n",
              "4               4           41.0\n",
              "5               5           32.8"
            ],
            "text/html": [
              "\n",
              "  <div id=\"df-9b654f6a-9b30-410f-9b38-ceefd456cf66\">\n",
              "    <div class=\"colab-df-container\">\n",
              "      <div>\n",
              "<style scoped>\n",
              "    .dataframe tbody tr th:only-of-type {\n",
              "        vertical-align: middle;\n",
              "    }\n",
              "\n",
              "    .dataframe tbody tr th {\n",
              "        vertical-align: top;\n",
              "    }\n",
              "\n",
              "    .dataframe thead th {\n",
              "        text-align: right;\n",
              "    }\n",
              "</style>\n",
              "<table border=\"1\" class=\"dataframe\">\n",
              "  <thead>\n",
              "    <tr style=\"text-align: right;\">\n",
              "      <th></th>\n",
              "      <th>NumeroSucessos</th>\n",
              "      <th>probabilidade</th>\n",
              "    </tr>\n",
              "  </thead>\n",
              "  <tbody>\n",
              "    <tr>\n",
              "      <th>0</th>\n",
              "      <td>0</td>\n",
              "      <td>0.0</td>\n",
              "    </tr>\n",
              "    <tr>\n",
              "      <th>1</th>\n",
              "      <td>1</td>\n",
              "      <td>0.6</td>\n",
              "    </tr>\n",
              "    <tr>\n",
              "      <th>2</th>\n",
              "      <td>2</td>\n",
              "      <td>5.1</td>\n",
              "    </tr>\n",
              "    <tr>\n",
              "      <th>3</th>\n",
              "      <td>3</td>\n",
              "      <td>20.5</td>\n",
              "    </tr>\n",
              "    <tr>\n",
              "      <th>4</th>\n",
              "      <td>4</td>\n",
              "      <td>41.0</td>\n",
              "    </tr>\n",
              "    <tr>\n",
              "      <th>5</th>\n",
              "      <td>5</td>\n",
              "      <td>32.8</td>\n",
              "    </tr>\n",
              "  </tbody>\n",
              "</table>\n",
              "</div>\n",
              "      <button class=\"colab-df-convert\" onclick=\"convertToInteractive('df-9b654f6a-9b30-410f-9b38-ceefd456cf66')\"\n",
              "              title=\"Convert this dataframe to an interactive table.\"\n",
              "              style=\"display:none;\">\n",
              "        \n",
              "  <svg xmlns=\"http://www.w3.org/2000/svg\" height=\"24px\"viewBox=\"0 0 24 24\"\n",
              "       width=\"24px\">\n",
              "    <path d=\"M0 0h24v24H0V0z\" fill=\"none\"/>\n",
              "    <path d=\"M18.56 5.44l.94 2.06.94-2.06 2.06-.94-2.06-.94-.94-2.06-.94 2.06-2.06.94zm-11 1L8.5 8.5l.94-2.06 2.06-.94-2.06-.94L8.5 2.5l-.94 2.06-2.06.94zm10 10l.94 2.06.94-2.06 2.06-.94-2.06-.94-.94-2.06-.94 2.06-2.06.94z\"/><path d=\"M17.41 7.96l-1.37-1.37c-.4-.4-.92-.59-1.43-.59-.52 0-1.04.2-1.43.59L10.3 9.45l-7.72 7.72c-.78.78-.78 2.05 0 2.83L4 21.41c.39.39.9.59 1.41.59.51 0 1.02-.2 1.41-.59l7.78-7.78 2.81-2.81c.8-.78.8-2.07 0-2.86zM5.41 20L4 18.59l7.72-7.72 1.47 1.35L5.41 20z\"/>\n",
              "  </svg>\n",
              "      </button>\n",
              "      \n",
              "  <style>\n",
              "    .colab-df-container {\n",
              "      display:flex;\n",
              "      flex-wrap:wrap;\n",
              "      gap: 12px;\n",
              "    }\n",
              "\n",
              "    .colab-df-convert {\n",
              "      background-color: #E8F0FE;\n",
              "      border: none;\n",
              "      border-radius: 50%;\n",
              "      cursor: pointer;\n",
              "      display: none;\n",
              "      fill: #1967D2;\n",
              "      height: 32px;\n",
              "      padding: 0 0 0 0;\n",
              "      width: 32px;\n",
              "    }\n",
              "\n",
              "    .colab-df-convert:hover {\n",
              "      background-color: #E2EBFA;\n",
              "      box-shadow: 0px 1px 2px rgba(60, 64, 67, 0.3), 0px 1px 3px 1px rgba(60, 64, 67, 0.15);\n",
              "      fill: #174EA6;\n",
              "    }\n",
              "\n",
              "    [theme=dark] .colab-df-convert {\n",
              "      background-color: #3B4455;\n",
              "      fill: #D2E3FC;\n",
              "    }\n",
              "\n",
              "    [theme=dark] .colab-df-convert:hover {\n",
              "      background-color: #434B5C;\n",
              "      box-shadow: 0px 1px 3px 1px rgba(0, 0, 0, 0.15);\n",
              "      filter: drop-shadow(0px 1px 2px rgba(0, 0, 0, 0.3));\n",
              "      fill: #FFFFFF;\n",
              "    }\n",
              "  </style>\n",
              "\n",
              "      <script>\n",
              "        const buttonEl =\n",
              "          document.querySelector('#df-9b654f6a-9b30-410f-9b38-ceefd456cf66 button.colab-df-convert');\n",
              "        buttonEl.style.display =\n",
              "          google.colab.kernel.accessAllowed ? 'block' : 'none';\n",
              "\n",
              "        async function convertToInteractive(key) {\n",
              "          const element = document.querySelector('#df-9b654f6a-9b30-410f-9b38-ceefd456cf66');\n",
              "          const dataTable =\n",
              "            await google.colab.kernel.invokeFunction('convertToInteractive',\n",
              "                                                     [key], {});\n",
              "          if (!dataTable) return;\n",
              "\n",
              "          const docLinkHtml = 'Like what you see? Visit the ' +\n",
              "            '<a target=\"_blank\" href=https://colab.research.google.com/notebooks/data_table.ipynb>data table notebook</a>'\n",
              "            + ' to learn more about interactive tables.';\n",
              "          element.innerHTML = '';\n",
              "          dataTable['output_type'] = 'display_data';\n",
              "          await google.colab.output.renderOutput(dataTable, element);\n",
              "          const docLink = document.createElement('div');\n",
              "          docLink.innerHTML = docLinkHtml;\n",
              "          element.appendChild(docLink);\n",
              "        }\n",
              "      </script>\n",
              "    </div>\n",
              "  </div>\n",
              "  "
            ]
          },
          "metadata": {},
          "execution_count": 44
        }
      ]
    },
    {
      "cell_type": "code",
      "source": [
        "plt.figure(figsize=(16, 5))\n",
        "sns.barplot(x= 'NumeroSucessos', y = 'probabilidade', data = lista, edgecolor='black',palette=\"vlag\")"
      ],
      "metadata": {
        "colab": {
          "base_uri": "https://localhost:8080/"
        },
        "id": "SUFgZGW6Ew02",
        "outputId": "642b29a1-a070-413d-f389-115a70d58e75"
      },
      "execution_count": null,
      "outputs": [
        {
          "output_type": "execute_result",
          "data": {
            "text/plain": [
              "<matplotlib.axes._subplots.AxesSubplot at 0x7f17bd61dcd0>"
            ]
          },
          "metadata": {},
          "execution_count": 47
        },
        {
          "output_type": "display_data",
          "data": {
            "text/plain": [
              "<Figure size 1152x360 with 1 Axes>"
            ],
            "image/png": "[encoded data removed]"
          },
          "metadata": {
            "needs_background": "light"
          }
        }
      ]
    },
    {
      "cell_type": "code",
      "source": [
        "dados_filtrados = lista[lista['NumeroSucessos'].isin(range(2,5))]\n",
        "np.sum(dados_filtrados['probabilidade'])"
      ],
      "metadata": {
        "id": "ffwkMIGLFqJl",
        "colab": {
          "base_uri": "https://localhost:8080/"
        },
        "outputId": "8a7c6b41-35fd-4fff-e1b2-a9734f273d8b"
      },
      "execution_count": null,
      "outputs": [
        {
          "output_type": "execute_result",
          "data": {
            "text/plain": [
              "66.6"
            ]
          },
          "metadata": {},
          "execution_count": 48
        }
      ]
    },
    {
      "cell_type": "code",
      "source": [
        "dados_filtrados "
      ],
      "metadata": {
        "colab": {
          "base_uri": "https://localhost:8080/"
        },
        "id": "Mesu9xMFHJOI",
        "outputId": "47c163b6-5f65-40ec-94fb-a7670b73cb05"
      },
      "execution_count": null,
      "outputs": [
        {
          "output_type": "execute_result",
          "data": {
            "text/plain": [
              "   NumeroSucessos  probabilidade\n",
              "2               2            5.1\n",
              "3               3           20.5\n",
              "4               4           41.0"
            ],
            "text/html": [
              "\n",
              "  <div id=\"df-93353a51-816f-4acd-ba36-787c36c5cb84\">\n",
              "    <div class=\"colab-df-container\">\n",
              "      <div>\n",
              "<style scoped>\n",
              "    .dataframe tbody tr th:only-of-type {\n",
              "        vertical-align: middle;\n",
              "    }\n",
              "\n",
              "    .dataframe tbody tr th {\n",
              "        vertical-align: top;\n",
              "    }\n",
              "\n",
              "    .dataframe thead th {\n",
              "        text-align: right;\n",
              "    }\n",
              "</style>\n",
              "<table border=\"1\" class=\"dataframe\">\n",
              "  <thead>\n",
              "    <tr style=\"text-align: right;\">\n",
              "      <th></th>\n",
              "      <th>NumeroSucessos</th>\n",
              "      <th>probabilidade</th>\n",
              "    </tr>\n",
              "  </thead>\n",
              "  <tbody>\n",
              "    <tr>\n",
              "      <th>2</th>\n",
              "      <td>2</td>\n",
              "      <td>5.1</td>\n",
              "    </tr>\n",
              "    <tr>\n",
              "      <th>3</th>\n",
              "      <td>3</td>\n",
              "      <td>20.5</td>\n",
              "    </tr>\n",
              "    <tr>\n",
              "      <th>4</th>\n",
              "      <td>4</td>\n",
              "      <td>41.0</td>\n",
              "    </tr>\n",
              "  </tbody>\n",
              "</table>\n",
              "</div>\n",
              "      <button class=\"colab-df-convert\" onclick=\"convertToInteractive('df-93353a51-816f-4acd-ba36-787c36c5cb84')\"\n",
              "              title=\"Convert this dataframe to an interactive table.\"\n",
              "              style=\"display:none;\">\n",
              "        \n",
              "  <svg xmlns=\"http://www.w3.org/2000/svg\" height=\"24px\"viewBox=\"0 0 24 24\"\n",
              "       width=\"24px\">\n",
              "    <path d=\"M0 0h24v24H0V0z\" fill=\"none\"/>\n",
              "    <path d=\"M18.56 5.44l.94 2.06.94-2.06 2.06-.94-2.06-.94-.94-2.06-.94 2.06-2.06.94zm-11 1L8.5 8.5l.94-2.06 2.06-.94-2.06-.94L8.5 2.5l-.94 2.06-2.06.94zm10 10l.94 2.06.94-2.06 2.06-.94-2.06-.94-.94-2.06-.94 2.06-2.06.94z\"/><path d=\"M17.41 7.96l-1.37-1.37c-.4-.4-.92-.59-1.43-.59-.52 0-1.04.2-1.43.59L10.3 9.45l-7.72 7.72c-.78.78-.78 2.05 0 2.83L4 21.41c.39.39.9.59 1.41.59.51 0 1.02-.2 1.41-.59l7.78-7.78 2.81-2.81c.8-.78.8-2.07 0-2.86zM5.41 20L4 18.59l7.72-7.72 1.47 1.35L5.41 20z\"/>\n",
              "  </svg>\n",
              "      </button>\n",
              "      \n",
              "  <style>\n",
              "    .colab-df-container {\n",
              "      display:flex;\n",
              "      flex-wrap:wrap;\n",
              "      gap: 12px;\n",
              "    }\n",
              "\n",
              "    .colab-df-convert {\n",
              "      background-color: #E8F0FE;\n",
              "      border: none;\n",
              "      border-radius: 50%;\n",
              "      cursor: pointer;\n",
              "      display: none;\n",
              "      fill: #1967D2;\n",
              "      height: 32px;\n",
              "      padding: 0 0 0 0;\n",
              "      width: 32px;\n",
              "    }\n",
              "\n",
              "    .colab-df-convert:hover {\n",
              "      background-color: #E2EBFA;\n",
              "      box-shadow: 0px 1px 2px rgba(60, 64, 67, 0.3), 0px 1px 3px 1px rgba(60, 64, 67, 0.15);\n",
              "      fill: #174EA6;\n",
              "    }\n",
              "\n",
              "    [theme=dark] .colab-df-convert {\n",
              "      background-color: #3B4455;\n",
              "      fill: #D2E3FC;\n",
              "    }\n",
              "\n",
              "    [theme=dark] .colab-df-convert:hover {\n",
              "      background-color: #434B5C;\n",
              "      box-shadow: 0px 1px 3px 1px rgba(0, 0, 0, 0.15);\n",
              "      filter: drop-shadow(0px 1px 2px rgba(0, 0, 0, 0.3));\n",
              "      fill: #FFFFFF;\n",
              "    }\n",
              "  </style>\n",
              "\n",
              "      <script>\n",
              "        const buttonEl =\n",
              "          document.querySelector('#df-93353a51-816f-4acd-ba36-787c36c5cb84 button.colab-df-convert');\n",
              "        buttonEl.style.display =\n",
              "          google.colab.kernel.accessAllowed ? 'block' : 'none';\n",
              "\n",
              "        async function convertToInteractive(key) {\n",
              "          const element = document.querySelector('#df-93353a51-816f-4acd-ba36-787c36c5cb84');\n",
              "          const dataTable =\n",
              "            await google.colab.kernel.invokeFunction('convertToInteractive',\n",
              "                                                     [key], {});\n",
              "          if (!dataTable) return;\n",
              "\n",
              "          const docLinkHtml = 'Like what you see? Visit the ' +\n",
              "            '<a target=\"_blank\" href=https://colab.research.google.com/notebooks/data_table.ipynb>data table notebook</a>'\n",
              "            + ' to learn more about interactive tables.';\n",
              "          element.innerHTML = '';\n",
              "          dataTable['output_type'] = 'display_data';\n",
              "          await google.colab.output.renderOutput(dataTable, element);\n",
              "          const docLink = document.createElement('div');\n",
              "          docLink.innerHTML = docLinkHtml;\n",
              "          element.appendChild(docLink);\n",
              "        }\n",
              "      </script>\n",
              "    </div>\n",
              "  </div>\n",
              "  "
            ]
          },
          "metadata": {},
          "execution_count": 49
        }
      ]
    },
    {
      "cell_type": "code",
      "source": [
        "#Obtendo a distribuição pela função binom(tendo como valores 2,3,4)\n",
        "sum(binom.pmf(n=5, p = 0.8, k = [2,3,4]))"
      ],
      "metadata": {
        "colab": {
          "base_uri": "https://localhost:8080/"
        },
        "id": "TgEZqXOlHggy",
        "outputId": "b9291360-98b2-4d7a-da04-80cfc0301e17"
      },
      "execution_count": null,
      "outputs": [
        {
          "output_type": "execute_result",
          "data": {
            "text/plain": [
              "0.6655999999999997"
            ]
          },
          "metadata": {},
          "execution_count": 50
        }
      ]
    },
    {
      "cell_type": "markdown",
      "source": [
        "# Limites e derivadas"
      ],
      "metadata": {
        "id": "NckPU532hqrN"
      }
    },
    {
      "cell_type": "markdown",
      "source": [
        "- Para obter a variada é necessario descobrir o limite de uma função tendendo a zero.\n",
        "![image.png](data:image/png;base64,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)\n",
        "- Deivada é uma taxa de variação instantanea, em um ponto especifico. Deste modo,o processo de derivação pode ser usado em qualquer ponto da curva.\n",
        "\n",
        "Regras da derivação :\n",
        "\n",
        "- Regra da constante = a taxa de variação é zero.\n",
        "- Regra da potencia = pela regra do tombo simplificamos a conta.\n",
        "- Regra da multiplicação = aplicamos essa regra quando existem duas funções se multiplicando, \"faz a derivada da primeira função x g(x) + f(x) x faz derivada da segunda função\". Combinamos a regra da potencia e da constante a maior parte das vezes.\n",
        "- Regra da divisão = \"faz a derivada da primeira função x g(x) - f(x) x faz derivada da segunda função\" dividido pela segunda função ao quadrado. Combinamos a regra da potencia e da constante a maior parte das vezes.\n",
        "\n",
        "![image.png](data:image/png;base64,iVBORw0KGgoAAAANSUhEUgAAAPMAAAF0CAYAAAD2NA/rAAAgAElEQVR4Ae2d3+sVx/nH+0f0ujf9q9KGEhoLBiUQLCHe5MIgBKwISsGbNpDQipgKwQ/BImIQYqG58UKbqhSENIKpaTQgqLXdL6/T73P6+Di7O7t7ds/snvfAYXfnxzPPvGbeO7M/Pvv5QaUgAiKwCAI/WEQr1AgREIFKYtYgEIGFEJCYF9KRaoYISMwaAyKwEAIS80I6Us0QAYlZY0AEFkJAYl5IR6oZIiAxawyIwEIISMwz68hXXnllZh7L3akILErMDPT4O3bsWHX58uWpeI5ez9LFPEX7pqhj9IGQqGBxYk60sbpx40a1t7eXSppd3FIHonXEFO2bog5rz5TbnRAzQJfSgUtpR90gn6J9U9RR174x47PF/OxPf62+/eFPV78nf7g2pk+9bTd1Uirt3r17Fctw0vixf/v27Rfqv3v37joP6WfPnq0ePnz40snB7LOkZ5/VAOHx48erMr4eVgnEN4XoG/VSxuqxsn3tU552YBeb/PCR9vpAHu87+8T5QFmz5fN+/vnnPltFm+rqI838sK2tpnLamONDUx04GpnTFj8eqKPkkCXm//zrefX9T361FvO3P/p59e9/PCquXSnYNhh9p+A4g9YEYg2xQWN5U3nMXqyLYzo/igHbcfC3LfvJjz38sUCcCcHibNvVPuWsDl+W+rxYU3lScfiKb94WdRDn71fENlFf5EWeVIi2I8NcH7CdqiPV16nxkPKtlLjFiZmO8j8GUxwIwGfQ1gVLw44XlOUnLg4Iju0kYPmatrG8z5sSBukmJJ+3br/JPmXq6vD26vLgB2kWqCvFiXTvR1M+b8v227a5tn2+6JPVYX1ux37blObzbXs/S8w4+fzu/eqfP/7FrJbZ8eztYdPBTT/yxkEQyzcdWxqDnOUiA8Lqs33LE7deKDEt+tTHPjajnVhPWx5f3u9HOz7Nlrm0j75JnQB8frOV08ZUOSsf0+KxtZX4up/ZKnmbLeaSG2G+1XUSgyiGnLMt9lIDjrhYVzy2+hi4cSlJWl3+rml97LfVYb7n+pibz+wys3M9TTlE7UPKVk4bU+XMbkyLx+TLGQ9mr9Tt4sVctzRl+Z0SGR1lAiadTrZj0rCXmllTA4T8XeMpg33qiSHVlj72sYtAUic5Xyd56vwgzUKdD6Q3paXSU/lTcbFsXZ6YL3VMXM54IF/JYfFiBj4dFe+s2uwaBU1efhZM0AwWRMYgtrKWh23dYCLe10FZbNTlx5YtR72Q2E+V62OfOuzE4AVtvlmc5Yl+UKePa2qLpZEfrtRhgXpg6gP5fR7SiGtjaPV4W7Yf01J1UGesh/J+PHgfzHZJ250QM8DpKD8AibPBS5r94rKvrrNSgzCVN9aBIE2sqfwWZwPd/Ko7ifS1Tz3wsBME9dCmOGCjH+SJHClbF3wabK09bKk72jI2pNsNxZw2+nqiLzEtVQdlYj2U8+Mh2on1bPt4UWLeNEw6NxUY8AxEBREoiYDE3NAbLLGYibyomUk4Q8cZpcGMkkRgEgIScwvmuDRE3CzTFESgNAISc2k9In9EoCcBibknOBUTgdIISMyl9Yj8EYGeBCTmnuBUTARKIyAxl9Yj8kcEehKQmHuCUzERKI2AxFxaj8gfEehJQGLuCU7FRKA0AhJzaT0if0SgJwGJuSc4FROB0ghIzKX1iPwRgZ4EJOae4FRMBEojIDGX1iPyRwR6EpCYe4JTMREojYDEXFqPyB8R6ElAYu4JTsVEoDQCEnNpPSJ/RKAnAYm5JzgVE4HSCEjMpfWI/BGBngQk5p7gVEwESiMwSMwfffTR6kuVx48fL61d8kcEdo7AIDE/f/589Sna+N8ido6iGiwCBRAYJOanT59Wb731VnXnzp0CmiIXRGC3CQwS8/3796ujR49WT5482W2Kar0IFECgk5gfPHhQHTlyZHWd/Oqrr1YXLlyo4vUyeT744IP1/xR67bXXqkePHhXQVLkgAssmkC1mZuF9+/ZVp0+fXs3ELLEPHjxYnTt3bk3I4iyPZu41Gu2IwOgEssXMnevDhw+vl9Sp6+WYZ3TvVYEIiMCaQJaYbcb1d62ZdQ8cOLBeQqfyrGvRjgiIwOgEssSMcPfv3//CXWtmYX+9nMozuveqQAREYE0gW8xcLzMz82yZf3V66tSplZgR8d7eXmUz89WrV1fGuRF28uTJ9cy9rlE7IiACoxDIEjM1X7x4cXWH+u23366++uqr6vr166tju9lFHoSM6Pn/xZZvFK9lVARE4CUC2WJ+qaQiREAEiiIgMRfVHXJGBPoTWIyYuXb3L7TYtXt/NCopAvMisAgxI2Su1U3Adj3vH6XNq1vkrQh0J7AIMceXVeyvufyjs+5oVEIE5kVg62I24XEHvOnn3z7ziK18FC4C13vhnpT2l05g62IeCtieb/t3xLF55coViXkoXJWfFYEsMTfNmF3SxiAjMY9BVTbnSCBLzGM2zJbJbSeFPsvsujJjtke2RWBbBLYu5k00XDfANkFRNuZOYBFi/vLLL1c3z/yjKT6eYJ8zskdXelQ19+Eq/5sILELMNJBny/Ze+KFDh6o///nP63ZLzGsU2lkwgUFiZnnLtW58LLRgXmqaCBRLYJCY7eaVlq/F9q8c2yECg8TMYyF9aneHRouaWjSBQWLmWlSf2i26f+XcDhHoJOa2T+1aur+TfObMmcof7xBbNVUEJiWQLWa7I2xfFolvXnH9fP78+erx48erf1nD65UI2R4XTdoqVSYCO0ggW8zxxYym62Xei+Yud3xfegf5qskiMBmBLDHbLOzvWjNT+0/teo95iUN/seSJaF8ExieQJWaE2/apXXOV5Tb/nkbXyUZEWxGYhkC2mNs+tYu7CPnEiRPVrVu31tfNnAh03TxNZ6qW3SaQJWYQtX1ql2tqPq9r70PbdbPdMNttzGq9CIxPIFvM47uiGkRABIYQkJiH0FNZESiIgMRcUGfIFREYQkBiHkJPZUWgIAISc0GdIVdEYAgBiXkIPZUVgYIISMwFdYZcEYEhBCTmIfRUVgQKIiAxF9QZckUEhhCQmIfQU1kRKIiAxFxQZ8gVERhCQGIeQk9lRaAgAhJzQZ0hV0RgCAGJeQg9lRWBgghIzAV1Ro4rfI5JQQRSBBYl5tR/kjx27Fh1+fLlVNtnGVe6mJv8u3fv3uqjFfQJ+2OGJj/GrHebthcn5hTMGzduVHt7e6mk2cWVPkib/Lt79+6at99fR2pnEIGdEDOEmgbZIIITFy69HaX7N3F3TVpdtpif/emv1bc//Onq9+QP1yZ1MreypoGUSrNlH2n8WP7dvn37heqYQYi39LNnz1YPHz586eRg9lnSs89qgMB3xCljNkhjlUB8U4i+YYMyVo+V7Wvf7Ji/HPOzesy+bWmzbwP7xFnAX7NhW78aiu2hvGdNGexFVv6LsFaX5bN6sBVnetIs5DDy+a3c3LZZYv7Pv55X3//kV2sxf/ujn1f//sej4tqa6hAbhH7g4DidHweudbrlTeUxe7EujlODiroo40Pbsp/82MMfC8Thb6yX9K72KYMdflEEHBPvbZo/bXFm13y2bYpjZE2dtM/XQXni/D2PlC/YiicX7PkQ7cY+iBx82bnsL07MdKL/MRBiR9I5dH5dsDTseEFZfuLiYOHYTgKWr2kby/u8qUFNug1kn7duv8k+ZUhntkwF4vHBQpM/Ph/5U/UaT7Pnt5ZGuRTraLPOF28zlolpdpzy1dLmuM0SMw17fvd+9c8f/2JWy+x49vUdREc2/cjb1NkxLR5bXQxQlpsMWqvP9i1P3EaB+PRYTx/72It2fB0xvSlvTIvHZov4up/liT7Ysbfp9y09tfX5+jJK2S05LlvMJTfCfPMd6ONSM5DNCJYvtcVearYgLtYVj80ewkwt4eryU65LWh/7bXWQ7vl08SeV19syLnGbKmd5fJrft/TU1ufryyhlt+S4xYu5bmnK8jslMjrLBEw6A9GOScMecX6wEB+PrdO7xlMO+6lLg1Rb+tg3f1MnOdI2vczOYV3XDvOVLQFh1vn9/1lWG2/P79fl8fFz3V+8mOkYBlO8K2qzaxQ0eflZMEEzIBAZg8nKWh62TQPG10FZbNTlxxaDlXQvaPZT5cjX1b75G8sSjy3i4wks5U+MM7u+LHHGy/tJvGeNrbrg0+yE5gVtTH2cL8O+r9vy+zw+vc6P0uN3Qsx0Ah3nxUGc71TS+dkjpbaOQ9g++IHh42MdNrPU5beyDExbAZC37iTS1z42KYug2OfnT1bmh22jP+SNPMlLPrPnbwhGP8njWXNcF2KaP7GRhi9RjL5MrDvVBz5/nR+lxy9KzJuGzSBIBQYOA2LOYQmDd878x/BdYm6gyqzFWd+L2pZ5qVmpwVRxSRJzcV0y2CGJuQUhS0EGvv0Qt782aylebLLEXGzX9HZMYu6NTgVFoCwCEnNZ/SFvRKA3AYm5NzoVFIGyCEjMZfWHvBGB3gQk5t7oVFAEyiIgMZfVH/JGBHoTkJh7o1NBESiLgMRcVn/IGxHoTUBi7o1OBUWgLAISc1n9IW9EoDcBibk3OhUUgbIISMxl9Ye8EYHeBCTm3uhUUATKIiAxl9Uf8kYEehOQmHujU0ERKIuAxFxWf8gbEehNQGLujU4FRaAsAhJzWf0hb0SgNwGJuTc6FRSBsghIzGX1h7wRgd4EtiLmp0+fVkeOHKkOHz5c/e1vf1vtv/rqqy99qL53q1RQBHaQwCAxf/TRR6uvVh4/frwTur/85S/V999/Xx08eLD69a9/XT158qTC1rlz5zrZUWYREIH/ERgk5ufPn6++Kx3/9cv/zNfv3b9/vzpw4ED16NF//88zYu5jp74GpYjAbhEYJGaWy2+99VZ1586dztSuXLlS2YyOnV/+8pdrYXc2pgIiIALVIDEzux49enS1TO7K0i+rv/zyy9X189///vfq5s2bXU0pvwiIQFV1E/ODBw9WN6v4bwjcsLpw4cJ6djWalod0m7HPnDmzym/HcXnOSWHfvn3r62ezpa0IiEA+geyZ2QR3+vTp1UzM0pgbWP6mFSI9f/786n8z8W9cSEPIV69ezfdIOUVABHoRyBYzy2IeJXHnmdB2vcw1MTO4F3svD1VIBEQgi0CWmG0W9neb493oWBvXwa+99ppuakUwOhaBkQhkiRnh7t+/f30NjC/M1HY3OvrGcvuDDz544To55tGxCIjAZglki5kbVMzMCJX/W3zq1KmVmBH63t7e2ivST5w4Ud26dWv1DJplNnl03bxG9MKO3TD0q54XMuhABDIJZIkZWxcvXlxdA7/99tvVV199VV2/fn11bDfEyMNsTbrdtbbrZp8n06/FZ+Okd+nSpdUNQ15tlZgX3+WjNzBbzKN7MqMKuIewqXfLETV3/iXmGQ2AQl2VmHt0zCbfLZeYe3SAiiQJSMxJLO2R8W4+lxg2u9rdfx7NxV+8aSgxt7NWjjwCEnMep5dyberdcon5JbSK6ElAYu4JjpnYXogZ8m65XX/7JwI9XVKxHScwCzHb7BWXrPHYv6EW+xUbPPumDMtheyTEsYmSMhY/xbvlnBB8G/SSTew1HXchMAsxd2lQXV4eA/FIDQH97ne/q/74xz+uXk1luWwnAQSvd8vrCCq+dAJZYvazxxT7Y0GzGd7fhELc/tjqtmfkfta2NG1FoEQCWWLetuMmwrYTic2wdf7G11LNrt2F9uX0brmnof05EJiFmDcFMgo0Pl6yehC53i03GtrOhcBOiTkuqe0u9OPHj6vf//73q2tohLztd8s5ydi78HMZSPJz+wR2Rsy2pPbXwIgZ0fA+OR8WROwlvFsuMW9fGHP0YONiRhBc26ZuKs0RkHwWgbkQ2LiYbQZM3VSaCxT5KQJzJLBxMfNGU9/P784RoHwWgVIIbFzMXO/1/fxuKVDkhwjMkcBgMdvrj1wnpz6/a+lNr0fOEZx8FoHSCAwSs911tS+J2J/+2R1jrp/1emRpXS5/lkpgkJi5c+3fumq6XtbrkUsdQmpXKQR6i9lmYX/Xmpna/zM438j49pVP074IiMBwAr3FjHBzP7/LcluvRw7vLFkQgSYCg8Rsrxwi1rrP75K27dcjmwAoTQSWQqC3mAHQ9vndUl6PXEpnqR0i0ERgkJibDCtNBERgWgIS87S8VZsIjEZAYh4NrQyLwLQEJOZpeas2ERiNgMQ8GloZFoFpCUjM0/JWbSIwGgGJeTS0MiwC0xKQmKflrdpEYDQCEvNoaGVYBKYlIDFPy1u1icBoBCTm0dDKsAhMS0Binpa3ahOB0QhIzKOhlWERmJaAxDwtb9UmAqMRkJhHQyvDIjAtAYl5Wt6qTQRGIyAxj4ZWhkVgWgIS87S8VZsIjEZAYh4NrQyLwLQEJOZpeas2ERiNgMQ8GloZFoFpCUjM0/JWbSIwGgGJeTS0MiwC0xKQmKflrdpEYDQCEvNoaGVYBKYlIDFPy1u1icBoBCTm0dDKsAhMS0Binpa3ahOB0QhIzKOhlWERmJaAxDwtb9UmAqMRkJhHQyvDIjAtAYl5Wt6qTQRGIyAxj4ZWhkVgWgIS87S8VZsIjEZAYh4NrQyLwLQEJOZpeas2ERiNgMQ8GloZFoFpCUjM0/JWbSIwGgGJeTS0MiwC0xKQmKflrdpEYDQCEvNoaGVYBKYlIDFPy1u1icBoBCTm0dDKsAhMS0Binpb34NpeeeWVwTamNDCFv1PUMSWzvnUtSsx0avwdO3asunz5cl8+xZWb28CN/sZjA1wXb+lN21g2HjeV3XTavXv31mPw4cOHk469xYk51Tk3btyo9vb2Ukmzi9vmQO0DK/obj/vYjGXGsBnryD2+ffv2Kivbs2fPVo8fP84tOjjfTogZSiV1+JBem1s7or/xeAgLKzuGTbM9p222mJ/96a/Vtz/86er35A/XimxjU6em0lgSsQwnjR/7dma1Bt69e3edh3TOtiyfoj07ZknPPqsBAmdmyvh6WCW0nbGjb3aWt3rMv772sRPrMJ9hQLr9Pv/8c6tutY0+WGIq3uL88tPs+tWS5cOW7RtLy28MrD7bWv66Y/qLsmaHvqBfLeQy3KQdPx7Yx7YPsU0+rW4/S8z/+dfz6vuf/Got5m9/9PPq3/94VGdza/EpAEACVkqkcXBYp1peOjzmMXuxLo7jIDEQsaPalv3kx54XPHE2IM2ubbvapxz2vZiIw779zLbFGxMr69NtPzJJ5U3lifnIw88LjjwcEx/bG236Y2Ppy8A1CsinU1fsozHtpGzHtuNTW1icmOlI/+PsHjsKKHRmXbA07HhBWX7i/IAhnmM/4C1v3TaW9/kQVMpn63Sft26/yT5lSI9tS7WLvMQbEyubqjdVZ4yLx2bHx7PPTJ4KxMPHB1+WeH9cx9KXr9uf0g59G9tV51ddfJaYKfz87v3qnz/+xayW2fHs6iHQUU0/8vrO9GVTaXV5EQIzIGKw+mw/2rTjpk6N9fSxn/Lf6o72U/E5eVLlcuuts59r05f3+1Y+bnMYTmEnp47ouz/OFrMvVOp+CgZxqbO8n2nq2kNZOjoG4mJd8djKIMzUkqkuP+W6pPWx31RHXd0+3u9bO+tsxrzx2Mr7eL9v6X4b+y7m98d+39vw+zkMp7CTU4f3O+4vXsx1S1OW3ymRAcgETDoDx45Jw15qZq3riK7x1IF96okh1ZY+9rHbtZzP7/e9j6n4GBePrbyPZz91AiZvn2V2na1U3RbH1vuE4Ddlp65vqWNIWLyYgYNw4x1Zm12joMnLz4IJmo5FZAC3spaHre/4GO/roCw26vJTlkFDuu909lPlyNfVfpu/3n/b9/5GRuThUsLnSZUjjjz+5JjKRx5+vl3k4zhVnjgf/LGdAL0QrQ8sLtZl6WPaiX1LXT4utt23r25/J8RM4yMs4nynkc7PHs/UAbN4hO0DZVMh1oEgTayp/BZHHlsBYLvuJNLXfp2/ufEImrzmW12boj3LR7y/YejzsU+7fB3+RGqMbOvLEheP/YmQNGx5seQy3JSd2Lf444WcaoO1tWm7KDE3NbRPGp2cCgwExKUwDoEoxnFq6W8V/+rGRn+rw0tKzA0MmRk4a/qO4wxKZ8YzaYMZJXUkULKYWbkxLkoMEnNLr9B5DC77IW6WSQrjEShZzOO1erhliXk4Q1kQgSIISMxFdIOcEIHhBCTm4QxlQQSKICAxF9ENckIEhhOQmIczlAURKIKAxFxEN8gJERhOQGIezlAWRKAIAhJzEd0gJ0RgOAGJeThDWRCBIghIzEV0g5wQgeEEJObhDGVBBIogIDEX0Q1yQgSGE5CYhzOUBREogoDEXEQ3yAkRGE5AYh7OUBZEoAgCEnMR3SAnRGA4AYl5OENZEIEiCEjMRXSDnBCB4QQk5uEMZUEEiiAgMRfRDXJCBIYTkJiHM5QFESiCwNbFfP369er48eMvfBC9icy1a9c65W+yZWldfBijfvNDWxEYQmCQmD/66KPVJ2gRYypcvXq12rdvX22ezz77rHr//fdf+C51yk6M++6776p33nmnQoRDQx8fNln/UP+3Wb6t/7fpW0l1t3Fq00luWwaJ+fnz56uPxMf/40TlV65cqQ4fPlw9efJktX/u3LkXfLp582b1xhtvVAijT/j666+r119/vWLbNwzxYRP19/W7lHJN/V+KjyX40cSpTSdd/B8k5qdPn1ZvvfVWdefOnRfqJP7gwYMv/bM2n4nZ/OOPP/ZRnfdPnjxZnTlzpnM5KzDUh6H1mx9z3db1/1zbM5bfdZxydNLFp0Fivn//fnX06NHV7OsrZfn76quvviRyy8NszH8tGDKrYovrV2b3PmETPgypv4/PpZWp6//S/Ny2P3Wc2nTS1e9OYn7w4EF15MiRlRAR64ULF1Y3o3yldn1g/87ltddeqx49euSzrK516/4FidXhTwbMvv7YjNm/+Ewt1c0O9VCW5cxvf/vb9YkHkEN9aKrffFzSNjJN9T/tjfki+yUxSbUltj/FKUcnKdtNcdli5uzCzazTp0+vBGFLhHgtTGU4WndTjPRLly6trnejY1xbnD9/fnVDjP/phG2EzA2CVOAfuiFI/69ByWe+8p8auWZP+boJH+rqT/k69zhj2tb/lq+J/dxZNPlv7W/jhI02nTTVk0rLFjMV2w0tDNVdB9jFfkrk5sAnn3xSvfnmm3aY3HI2R6hNdp49e7bKw40sH1K+xmv4TfhQV7/3ZSn7Kaap+yWpfJH9Upik2pFqf4pTjk5S9pvissRsM5u/a80Z6MCBAy8toYnfv39/7fUyznCtWbfENWe//PLLKrVEt3S233zzzcqOv/bO9XUTPqTq9/4tZT+XaW6+pXCJ7ejS/hydRPttx1liTlXMGSi1lM4RITMpYmZmSwXOWh988EHyOtnnT9mp89WvKrCRKutt5/jQZsPbm/N+HdPY/3X5Ivs5s2jyva79kRM2cnTSVFcqLVvMXC8zMzPI+WfTp06dWomZBuzt7a1t14l8naGqViLmLjSzYwzYP3HiRHXr1q3VM2yW2dSRum7m0dZ77733ggny1vnqM3IiGepDqn5fx1L2m5j6/m/KtxQWTe1oar/nhI0cnTTVlUrLEjMFL168uJpN33777eqrr75a35G2C33y2DKj6TrXnPjwww9fmtlpIPbtubVdN/s6rDzbQ4cOVbzBFQM3zZj5scUdZ26m+UsEyz/Uh7r6zf6Stjn9T3tz2S+JjW9LDqcuOvG22/azxdxmiHTOPm3Xy2aH601ugn3xxRcW1WnLrMiroH6pztIF4fvQtJwZ4kOqfl/vtvZ55MayLt7hr/OH1VGX/HV2urKvszNV/LY40b4uOunCY2NiZnnMzNrl+ggxvfvuu9Wnn376giibGsDjIM7+lGPfAvUzA3sx27KnaaXQ1Ye6+s2PsbdN7/H2ec8cf3lOP+Rd977sx2ZVZ39bnPCnj07q2hHjNyJmWzbYEjxW0nYM3NyZhDMqv1RAvPZSC8tsXhbx1/OpMhaX60NT/WZrrC2XHXayZN+fpLgZt8133Yewj7xi22L6kONtchqqk7Z2b0TMbZUofTgBGwipa3+ss1Rm6T8klPKu+ZhiXhKn2NcScyRS6DErgtQrrbi7iffMscP1c9933TeJbSwxL41TZC4xRyIbPLZrSZb8TT9bOtdVzb0IXz6+TIPQSU8Fe0/Ynwi45+CPrVwp75r3FbO1FRa0Dzubfh8fVqVwsn6zrcRsJArfNj2X3MR75jS/lHfN+4jZbnY2vRO+NE5xyGaJ2c8K2k/PshHsJo9thvc3vLz9Tbxnjr26d8032efeb/atbW115KxefJ7UPYY5c4rcUsdZYk4VVFw7gU0NVGadpuf3m3jPnNbwmA5R+Xfd21u5+RxdZ+aUcGEW/3ZgaZwieYk5EinwuOnFF9xte0eck0rfd923gaOrmFMnu9Q7D0vjFPtGYo5ECjxuul7G3U28Z46dUt417yPmqd7Hn5qT3QuoeyTph6vE7GkUuG9LyLrrZXN56Hvm2CnlXfOuYsb33HfC58ZpkWK2xzM89N+lkFpCpto/5D1z7PV513ysPuki5q7vhC+JUxwHs5mZ7WZSznIjNnKux7Q5de1X156u75ljZ8i75tvuE6t/7Pfx58JpNmJmuZn6/ErdwJ57vC2v+7zvnvueOYyGvGteQp+wchn7ffy5cJqNmOm01Gd95y7aOfuvPsnrvak4FSvm+Gpe/FyppfvXEuteU8xDrlxtBIw5z6Lhrj5JE9sWpyLFzJms6bO+XCt1+SRvGrliuxBQn+TR2ianIsUcb/o0XZtx55OZou3RTV5XKFcdAfVJHZkX47fJqTgx240ff9eas118Nc8Qtr0dZfm07U9AfZLHbtucihMzwo3vIXO2Sz1fZrmd85piXlcoVx0B9UkdmRfjt82pSDHXvZoHLPsMEELO/STvi8h11JUA3NUn7dS2zak4MYOs7XOlzNRdPsnb3g3K0UZAfdJG6BRoJGcAAAuTSURBVL/p2+RUpJjzsCmXCIiAJyAxexraF4EZE5CYZ9x5cl0EPAGJ2dPQvgjMmIDEPOPOk+si4AlIzJ6G9kVgxgQk5hl3nlwXAU9AYvY0tC8CMyYgMc+48+S6CHgCErOnoX0RmDEBiXnGnSfXRcATkJg9De2LwIwJSMwz7jy5LgKegMTsaWhfBGZMQGKeWefxiaSxwxR1jN2GXbS/KDEzCOPv2LFj1eXLlxfTt1MILVVHKq4Natcy9+7dW/ffw4cPF9Vvbaw2kb44Maeg3LhxY/2FklT6nOK6CqRP26aoI+XX7du3V9Fs+afp/LcNhXwCOyFmcGxrgOZ3RV7OKdoxRR15rVWuLgSyxfzsT3+tvv3hT1e/J3+41qWOyfI2DcJUGss6luGk8WPfZgdz+u7du+s8pDNjsASM9uyYJT37rAYIzC6U8fXwHbO2WSf6ZjOV1WP+9bVP+dw6yGv1ptpuvtBmf0ljZawu2kAcP3jA1kJuO6jfs2SfOB98vT5+6ftZYv7Pv55X3//kV2sxf/ujn1f//sej4tikOtE6PyVSE4g1xAaU5WWwxTxmL9aVGqBmNw62tmU/+bHnBU+cicHs2rarfcp1rcO3Fz84EcQQffZlYhpt82I2n7zNyMl89u1NxUW73uaS9xcnZgaN/zFT+M63zuSMXhcsLQ5Ay89AJM0Hju0k4OPr9mN5nw+xpHy2gevz1u032adM1zq8PTvJ+bppu5+VSfNl2PcnJ1+2ad/baPKZtF0PWWIG0vO796t//vgXs1pmxzO772wGSdOPvH4g+bKptLq8DGCW1XFpWJcf200DM5brY79rHXXt9Scc/Ipi9b4yk3NM2+iXmDenHd4ePvnQlObzLXk/W8xzgJDqUOJSS0KbfZvaRdk46MhPXKwrHptdBm9q2VeXn3Jd0vrY71pHKj9tspkYvqkTUKodnAD4byWkIWoLOe1I2bPyTWmWZ+nbxYu5bmnKQEyJjA43AZOO6O2YNOzZLOsHR91g6hqPTez7Wc/qSbWlj/2udZA/VY/FIcSUv5Zu/setT/f7Pp+Pr6uHulMnE29nF/YXL2Y6EeH6/11FnM2uUdDktRmHfCZoBhUiY9BYWT9A/KCL8b4OymKjLj9lbUnqBWIDNpbjuKv9rnWQP9ZLHDMrXOuEZGXwHab+pEgb4Wkhpx3YIV/kEuM8D7O/C9udEDMdGTucOC8s0vn5pV/TAPAD0eyn8sc6GPgm1lR+i7PBbn7VnUT62qee3DrIix+pQDx2UsGXgau1hS3t8aLMbUf0ObWK8fWm/Fpq3KLEvOlOYoClAmf+utkolV9xIjAFAYm5gTJLQ878XtSppV6DCSWJwGQEJOYW1HF5iLjrlpUtppQsAqMSkJhHxSvjIjAdAYl5OtaqSQRGJSAxj4pXxkVgOgIS83SsVZMIjEpAYh4Vr4yLwHQEJObpWKsmERiVgMQ8Kl4ZF4HpCEjM07FWTSIwKgGJeVS8Mi4C0xGQmKdjrZpEYFQCEvOoeGVcBKYjIDFPx1o1icCoBCTmUfHKuAhMR0Bino61ahKBUQlIzKPilXERmI6AxDwda9UkAqMSkJhHxSvjIjAdAYl5OtaqSQRGJSAxj4pXxkVgOgIS83SsVZMIjEpAYh4Vr4yLwHQEJObpWKsmERiVgMQ8Kl4ZF4HpCEjM07FWTSIwKoFixcx/keB/Bp05c2ZUADIuAkshUKyYv/jii5WYv/7666WwVjtEYFQCg8XMDPrZZ59lO4k4r1+/3pr/448/rt5///3WfMogAiLwXwKDxYzgbt++nc3z2bNn1XvvvVe1zbjkYXaeW5jT5cGcfJ3bONiGv4PE/OGHH1bMoHXh0qVLq2veQ4cOVadPn15nQ8jEMZhSAcG/+eabqaRi4uraNvXlQZ0fOaCm9jXHJ+XpT6C3mFlav/vuuxXCSwWW0syuhO+++6765ptvXsj26aefrtNfSJjBQVPbprw8aPIjB+OUvub4ozzDCPQSMwJ+4403Kv7peF145513Wq+lyTPHpXRT26a8PGjyo65ffPyUvvp6tT8OgV5ivnbtWsVAqgvMujxWYva+efNm7exNvtJucnFyoX1cArCNoaltU14eNPkRfU61aUpfoz86HodALzEjZK7VUoGBg0Bff/311fV00zU1gvnZz37WOMOn6hgjDr+5jqdd7HMyiiesLm0bw0ezmetHTpvMprbzJ9BZzAwQBFh38wok3OzKnXFPnjxZHT9+fKskuabnssHflecG3G9+85uX/OrStpcKbzCizY8ubdqgWzK1RQKdxcx1lr8znfKdGa1pRvZlWIYzCzadHHz+MfZTwuCElXp+3qVtKV/hR3ubfjl38tv86NKmlJ+Kmx+BTmLmOotBnrqWtKYjSgZqzoshVgabzPjbCgjjk08+WVdvJ5j4LLxP29ZGN7iT40dumzbolkxtmUAnMdcNct8GRNl1puURF8+stxFMGP5kwrKfa/4Y+rQt2tjEcZsfXdq0CX9kowwCncTM0jk1yH1TyMOs0CUg5K5luthvy0ub7IYeS2uu91PX8X3a1lZ3n/QcP3Lb1Kd+lSmTQCcxc73HrynkXFPH8gio62webQw55mTCUh/f8YXrTQQTQ5+2RRubOM7xI7dNm/BHNsogkC1mu15uWg5bntSNo6bm8vIJYvZL3ab8m0rDX5uRuT7mmB93trmk8KFv27yNTey3+UF6bps24Y9slEMgW8y8jongmoSKAJjheCzSNWA7NRt2tdMlPycmHo35gBBSd5OHtM3bH7rf5keXNg31ReXLIpAtZgZR0+yJgFn+9f2YANd4bY+8No3O3mTjRMWMxsogPm+mzqFt25TfOX7ktmlTPslOOQSyxWx3UBF1KvBox5Z3qfS2OGbDqcWMT7SHFYH9UquKoW1ra3tueq4fOW3KrVP55kMgW8x2k6rpjyuGNJu72czsCiIgAv0IZIuZWYFldvxTxn7VvlwKIfO8uWvgJGOzat2WP0pQEIGlE8gWM9fCiJkXEsYIPNdN3Xhqq0tibiOk9F0hkC1mrmcRc10gLedXVx77fcRcZy8nPsffXcqTw0x5yiWQLeZSZ2au4bnh0/Tzfw1VblfIMxEYRiBbzFyPMkuVds3Mc1Wut5t+8VnyMGQqLQJlEsgWs+5mj9+BPOu2x0pd/upsDM/smTb9rjAPAtlibnvOPLS5XC/v+gzKizNcziBoVhqpjyMM5Zxb3t74Y0WmMA8C2WJmgLHMHuv96W28AVZaF8HYAjMiglYQgVwC2WK2M/VYyy5OFJoF/tdtPKrr+2rs/6xob5cIZIvZ/lqn6a+m+oKzv5oa60TR169tleOkto1XW7fVXtW7GQLZYqY6u2OcWzVLcl7850WTpk8NIeIx75Tn+jtVviYuvN+e+jDCVL6pnvkS6CRmZgyubdsCg7Xts7XeBrP91C+M+Pqn2m/jwjUzXzlhFUTY9h3tqbions0Q6CRmuwkWP3TnXeGRRvwzQoTadGeWd7KXvqxs44KA4WZ/cAKTXTjB+bGj/WEEOonZrpublsyIMn4zmw8WNF0Pt6UPa2IZpftwKcNzeTEXAp3ETKPann8ys/AXVhbaZnNetdyF6+WuXIyftiKQS6CzmLnu47rZrut8RX0+8crye+k3fPpw8Vy1LwI5BDqLGaPc3KpbNiN0++IIeeo+W4sdW7bvwh9CdOGS03HKIwKRQC8x88f+dW8ncWc657O1OILYWX7uQujCZRd4qI2bJ9BLzHbn1d/VJs5m5LbP1lozuGPLsn3JoQ+XJfNQ28Yj0EvMuMPs7O9aM/PEP5RA3HWPV+wrkuM1rQzLXbmU4bW8mCOB3mKmsdy4stnYxMk73MxGzLjxebMB4pkrIh/rb6OtnhK2XbiU4K98mC+BQWJGtCyVbbnNYyjeErMfok0FZnTy7krI5bIrPNTOcQgMEjMuMbt2+eseBrbN5uM0SVZFYDcJ/B+XPfdfiNY8dgAAAABJRU5ErkJggg==)\n",
        "- Regra do logaritimo = a derivada sempre vai ser 1/x. Podemos combinar as outras regras por exemplo de multiplicação, visisão e constante.\n",
        "- Rega do exponencial = a derivada sempre vai ser o proprio exponencial. Podemos combinar as outras regras por exemplo de multiplicação, visisão e constante.\n",
        "\n",
        "![image.png](data:image/png;base64,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)\n"
      ],
      "metadata": {
        "id": "eJt0xVczh2Yt"
      }
    },
    {
      "cell_type": "markdown",
      "source": [
        "## Praticando limite com o sympy"
      ],
      "metadata": {
        "id": "-EbzDJmB-ZWO"
      }
    },
    {
      "cell_type": "markdown",
      "source": [
        "- *Exemplo 1 :* $\\lim\\frac{x^2 +x -2}{x-1}$"
      ],
      "metadata": {
        "id": "-LJHa9_k-lbH"
      }
    },
    {
      "cell_type": "markdown",
      "source": [
        "- No sympy primeiro passo é passar o nosso parametro (x = sp.symbol('x'))\n",
        "- O segundo passo devemos criar a função ( fx = ((x**2 + x-2) / (x-1))"
      ],
      "metadata": {
        "id": "tSXB0eSA-8PZ"
      }
    },
    {
      "cell_type": "code",
      "source": [
        "# É necessario primeiro declarar o simbolo \n",
        "# Simbolo \n",
        "x = sp.Symbol('x')"
      ],
      "metadata": {
        "id": "oNUhbLQPhs29"
      },
      "execution_count": null,
      "outputs": []
    },
    {
      "cell_type": "code",
      "source": [
        "# Função \n",
        "fx = (x**2 + x-2) / (x-1)"
      ],
      "metadata": {
        "id": "6YZlFnmN_cvF"
      },
      "execution_count": null,
      "outputs": []
    },
    {
      "cell_type": "code",
      "source": [
        "fx"
      ],
      "metadata": {
        "colab": {
          "base_uri": "https://localhost:8080/",
          "height": 55
        },
        "id": "SCgftl0zAQ9P",
        "outputId": "51ac737f-de22-4f82-d51e-f755848f8ee9"
      },
      "execution_count": null,
      "outputs": [
        {
          "output_type": "execute_result",
          "data": {
            "text/plain": [
              "(x**2 + x - 2)/(x - 1)"
            ],
            "text/latex": "$\\displaystyle \\frac{x^{2} + x - 2}{x - 1}$"
          },
          "metadata": {},
          "execution_count": 4
        }
      ]
    },
    {
      "cell_type": "code",
      "source": [
        "# Aplicamos a func, o simbolo, e o limite desejado\n",
        "sp.limit(fx,x,1)"
      ],
      "metadata": {
        "colab": {
          "base_uri": "https://localhost:8080/",
          "height": 36
        },
        "id": "2J81SWj9AR9h",
        "outputId": "637c5be2-c670-460c-cefe-0e8f9c339382"
      },
      "execution_count": null,
      "outputs": [
        {
          "output_type": "execute_result",
          "data": {
            "text/plain": [
              "3"
            ],
            "text/latex": "$\\displaystyle 3$"
          },
          "metadata": {},
          "execution_count": 6
        }
      ]
    },
    {
      "cell_type": "code",
      "source": [
        "# Plotando o grafico da função\n",
        "sp.plot(fx)"
      ],
      "metadata": {
        "colab": {
          "base_uri": "https://localhost:8080/",
          "height": 313
        },
        "id": "jkXBjM7UAh-3",
        "outputId": "ae7de72b-bfc8-40da-cc4c-61982f8709d5"
      },
      "execution_count": null,
      "outputs": [
        {
          "output_type": "display_data",
          "data": {
            "text/plain": [
              "<Figure size 432x288 with 1 Axes>"
            ],
            "image/png": "[encoded data removed]"
          },
          "metadata": {
            "needs_background": "light"
          }
        },
        {
          "output_type": "execute_result",
          "data": {
            "text/plain": [
              "<sympy.plotting.plot.Plot at 0x7f1c59f1fd90>"
            ]
          },
          "metadata": {},
          "execution_count": 15
        }
      ]
    },
    {
      "cell_type": "markdown",
      "source": [
        "- *Exemplo 2 :* $\\lim\\frac{x+1}{x-2}$"
      ],
      "metadata": {
        "id": "FeSHrA2fCRZc"
      }
    },
    {
      "cell_type": "code",
      "source": [
        "x = sp.Symbol('x')"
      ],
      "metadata": {
        "id": "-Iw5DGljBHts"
      },
      "execution_count": null,
      "outputs": []
    },
    {
      "cell_type": "code",
      "source": [
        "fx = (x+1) /(x-2)"
      ],
      "metadata": {
        "id": "CHOoWN85CeRG"
      },
      "execution_count": null,
      "outputs": []
    },
    {
      "cell_type": "code",
      "source": [
        "fx"
      ],
      "metadata": {
        "colab": {
          "base_uri": "https://localhost:8080/",
          "height": 52
        },
        "id": "n_TSic74CeP8",
        "outputId": "ec303146-0b38-492b-c905-449ba43a1132"
      },
      "execution_count": null,
      "outputs": [
        {
          "output_type": "execute_result",
          "data": {
            "text/plain": [
              "(x + 1)/(x - 2)"
            ],
            "text/latex": "$\\displaystyle \\frac{x + 1}{x - 2}$"
          },
          "metadata": {},
          "execution_count": 19
        }
      ]
    },
    {
      "cell_type": "code",
      "source": [
        "sp.limit(fx,x,2)"
      ],
      "metadata": {
        "colab": {
          "base_uri": "https://localhost:8080/",
          "height": 36
        },
        "id": "8BBc9y6GCj97",
        "outputId": "b0a208f4-4726-4a12-d927-008fb74af25e"
      },
      "execution_count": null,
      "outputs": [
        {
          "output_type": "execute_result",
          "data": {
            "text/plain": [
              "oo"
            ],
            "text/latex": "$\\displaystyle \\infty$"
          },
          "metadata": {},
          "execution_count": 22
        }
      ]
    },
    {
      "cell_type": "code",
      "source": [
        "sp.plot(fx)"
      ],
      "metadata": {
        "colab": {
          "base_uri": "https://localhost:8080/",
          "height": 311
        },
        "id": "D-hp6CYpCqZk",
        "outputId": "49464a9c-05f1-4b16-bf03-c90c05f5717d"
      },
      "execution_count": null,
      "outputs": [
        {
          "output_type": "display_data",
          "data": {
            "text/plain": [
              "<Figure size 432x288 with 1 Axes>"
            ],
            "image/png": "[encoded data removed]"
          },
          "metadata": {
            "needs_background": "light"
          }
        },
        {
          "output_type": "execute_result",
          "data": {
            "text/plain": [
              "<sympy.plotting.plot.Plot at 0x7f1c563b0050>"
            ]
          },
          "metadata": {},
          "execution_count": 23
        }
      ]
    },
    {
      "cell_type": "code",
      "source": [
        "# Aproximando o grafico\n",
        "sp.plot(fx, xlim = [-1,5,5],ylim = [-10,10])"
      ],
      "metadata": {
        "colab": {
          "base_uri": "https://localhost:8080/",
          "height": 313
        },
        "id": "p0TAXsNbFFKJ",
        "outputId": "6641411a-e006-42ad-fa92-5dd8360eecfc"
      },
      "execution_count": null,
      "outputs": [
        {
          "output_type": "display_data",
          "data": {
            "text/plain": [
              "<Figure size 432x288 with 1 Axes>"
            ],
            "image/png": "[encoded data removed]"
          },
          "metadata": {
            "needs_background": "light"
          }
        },
        {
          "output_type": "execute_result",
          "data": {
            "text/plain": [
              "<sympy.plotting.plot.Plot at 0x7f1c563638d0>"
            ]
          },
          "metadata": {},
          "execution_count": 36
        }
      ]
    },
    {
      "cell_type": "markdown",
      "source": [
        "- *Exemplo 3 : lim * $2+3.x$"
      ],
      "metadata": {
        "id": "Abgg7i22FazZ"
      }
    },
    {
      "cell_type": "code",
      "source": [
        "x = sp.Symbol('x')"
      ],
      "metadata": {
        "id": "0aDqlBABGFjC"
      },
      "execution_count": null,
      "outputs": []
    },
    {
      "cell_type": "code",
      "source": [
        "fx = ((2+3) * x)"
      ],
      "metadata": {
        "id": "X1qc5rHhGFjD"
      },
      "execution_count": null,
      "outputs": []
    },
    {
      "cell_type": "code",
      "source": [
        "fx"
      ],
      "metadata": {
        "colab": {
          "base_uri": "https://localhost:8080/",
          "height": 37
        },
        "outputId": "eb69b491-73ef-4bfd-e838-27e0da0404af",
        "id": "uERRgZ5oGFjE"
      },
      "execution_count": null,
      "outputs": [
        {
          "output_type": "execute_result",
          "data": {
            "text/plain": [
              "5*x"
            ],
            "text/latex": "$\\displaystyle 5 x$"
          },
          "metadata": {},
          "execution_count": 46
        }
      ]
    },
    {
      "cell_type": "code",
      "source": [
        "sp.limit(fx,x,0)"
      ],
      "metadata": {
        "colab": {
          "base_uri": "https://localhost:8080/",
          "height": 36
        },
        "outputId": "6d64e619-02ea-40a3-d745-3928ac7a1633",
        "id": "eFAT2SpMGFjF"
      },
      "execution_count": null,
      "outputs": [
        {
          "output_type": "execute_result",
          "data": {
            "text/plain": [
              "0"
            ],
            "text/latex": "$\\displaystyle 0$"
          },
          "metadata": {},
          "execution_count": 47
        }
      ]
    },
    {
      "cell_type": "code",
      "source": [
        "sp.plot(fx)"
      ],
      "metadata": {
        "colab": {
          "base_uri": "https://localhost:8080/",
          "height": 313
        },
        "outputId": "606d4592-7341-4f0a-f63e-20342a1bdc29",
        "id": "sBXRh1qoGFjF"
      },
      "execution_count": null,
      "outputs": [
        {
          "output_type": "display_data",
          "data": {
            "text/plain": [
              "<Figure size 432x288 with 1 Axes>"
            ],
            "image/png": "[encoded data removed]"
          },
          "metadata": {
            "needs_background": "light"
          }
        },
        {
          "output_type": "execute_result",
          "data": {
            "text/plain": [
              "<sympy.plotting.plot.Plot at 0x7f1c56214b10>"
            ]
          },
          "metadata": {},
          "execution_count": 48
        }
      ]
    },
    {
      "cell_type": "code",
      "source": [
        "# Aproximando o grafico\n",
        "sp.plot(fx, xlim = [-1,5,5],ylim = [-10,10])"
      ],
      "metadata": {
        "colab": {
          "base_uri": "https://localhost:8080/",
          "height": 313
        },
        "outputId": "451ca0b4-62d5-420f-8300-92c617c19c94",
        "id": "ViJlj_JWGFjG"
      },
      "execution_count": null,
      "outputs": [
        {
          "output_type": "display_data",
          "data": {
            "text/plain": [
              "<Figure size 432x288 with 1 Axes>"
            ],
            "image/png": "[encoded data removed]"
          },
          "metadata": {
            "needs_background": "light"
          }
        },
        {
          "output_type": "execute_result",
          "data": {
            "text/plain": [
              "<sympy.plotting.plot.Plot at 0x7f1c56210310>"
            ]
          },
          "metadata": {},
          "execution_count": 49
        }
      ]
    },
    {
      "cell_type": "markdown",
      "source": [
        "- *Exemplo 4 : lim * $2+3.x$"
      ],
      "metadata": {
        "id": "lZN7L23AGdl4"
      }
    },
    {
      "cell_type": "code",
      "source": [
        "x = sp.Symbol('x')"
      ],
      "metadata": {
        "id": "vAqPsR7dGdl4"
      },
      "execution_count": null,
      "outputs": []
    },
    {
      "cell_type": "code",
      "source": [
        "fx = ((2+3) * x)"
      ],
      "metadata": {
        "id": "8pr8jU2AGdl5"
      },
      "execution_count": null,
      "outputs": []
    },
    {
      "cell_type": "code",
      "source": [
        "fx"
      ],
      "metadata": {
        "colab": {
          "base_uri": "https://localhost:8080/",
          "height": 37
        },
        "outputId": "eb69b491-73ef-4bfd-e838-27e0da0404af",
        "id": "nMaV3SG3Gdl5"
      },
      "execution_count": null,
      "outputs": [
        {
          "output_type": "execute_result",
          "data": {
            "text/plain": [
              "5*x"
            ],
            "text/latex": "$\\displaystyle 5 x$"
          },
          "metadata": {},
          "execution_count": 46
        }
      ]
    },
    {
      "cell_type": "code",
      "source": [
        "sp.limit(fx,x,sp.oo)"
      ],
      "metadata": {
        "colab": {
          "base_uri": "https://localhost:8080/",
          "height": 36
        },
        "outputId": "093051f3-4678-4dce-fe9f-7a6f0848d35c",
        "id": "8cjmSnt3Gdl5"
      },
      "execution_count": null,
      "outputs": [
        {
          "output_type": "execute_result",
          "data": {
            "text/plain": [
              "oo"
            ],
            "text/latex": "$\\displaystyle \\infty$"
          },
          "metadata": {},
          "execution_count": 50
        }
      ]
    },
    {
      "cell_type": "code",
      "source": [
        "sp.plot(fx)"
      ],
      "metadata": {
        "colab": {
          "base_uri": "https://localhost:8080/",
          "height": 313
        },
        "outputId": "5a77cd4d-4abb-4d38-93ca-563bbcb53b85",
        "id": "7MaKcqycGdl6"
      },
      "execution_count": null,
      "outputs": [
        {
          "output_type": "display_data",
          "data": {
            "text/plain": [
              "<Figure size 432x288 with 1 Axes>"
            ],
            "image/png": "[encoded data removed]"
          },
          "metadata": {
            "needs_background": "light"
          }
        },
        {
          "output_type": "execute_result",
          "data": {
            "text/plain": [
              "<sympy.plotting.plot.Plot at 0x7f1c560f61d0>"
            ]
          },
          "metadata": {},
          "execution_count": 51
        }
      ]
    },
    {
      "cell_type": "code",
      "source": [
        "# Aproximando o grafico\n",
        "sp.plot(fx, xlim = [-1,5,5],ylim = [-10,10])"
      ],
      "metadata": {
        "colab": {
          "base_uri": "https://localhost:8080/",
          "height": 313
        },
        "outputId": "d46cd915-7d14-4a88-e87c-20f148a8844e",
        "id": "YFXOtWwqGdl6"
      },
      "execution_count": null,
      "outputs": [
        {
          "output_type": "display_data",
          "data": {
            "text/plain": [
              "<Figure size 432x288 with 1 Axes>"
            ],
            "image/png": "[encoded data removed]"
          },
          "metadata": {
            "needs_background": "light"
          }
        },
        {
          "output_type": "execute_result",
          "data": {
            "text/plain": [
              "<sympy.plotting.plot.Plot at 0x7f1c560710d0>"
            ]
          },
          "metadata": {},
          "execution_count": 52
        }
      ]
    },
    {
      "cell_type": "markdown",
      "source": [
        "- *Exemplo 5 : lim  $b0 + b1 . x$"
      ],
      "metadata": {
        "id": "eh_NHtwjGuYi"
      }
    },
    {
      "cell_type": "code",
      "source": [
        "x = sp.Symbol('x')\n",
        "beta = sp.Symbol('beta')\n",
        "beta1 = sp.Symbol('beta1')"
      ],
      "metadata": {
        "id": "2fQzXHUDGuYi"
      },
      "execution_count": null,
      "outputs": []
    },
    {
      "cell_type": "code",
      "source": [
        "fx = beta + beta1*x"
      ],
      "metadata": {
        "id": "BMq0lT-IGuYj"
      },
      "execution_count": null,
      "outputs": []
    },
    {
      "cell_type": "code",
      "source": [
        "fx"
      ],
      "metadata": {
        "colab": {
          "base_uri": "https://localhost:8080/",
          "height": 37
        },
        "outputId": "33f900ce-49fb-41f2-b3bb-d007730059a4",
        "id": "aPBIFptsGuYj"
      },
      "execution_count": null,
      "outputs": [
        {
          "output_type": "execute_result",
          "data": {
            "text/plain": [
              "beta + beta1*x"
            ],
            "text/latex": "$\\displaystyle \\beta + \\beta_{1} x$"
          },
          "metadata": {},
          "execution_count": 61
        }
      ]
    },
    {
      "cell_type": "code",
      "source": [
        "sp.limit(fx,x,0)"
      ],
      "metadata": {
        "colab": {
          "base_uri": "https://localhost:8080/",
          "height": 37
        },
        "outputId": "be0d0ddf-cc5b-4d1a-a4ba-f9f3a0ae8532",
        "id": "VHVJmOUOGuYj"
      },
      "execution_count": null,
      "outputs": [
        {
          "output_type": "execute_result",
          "data": {
            "text/plain": [
              "beta"
            ],
            "text/latex": "$\\displaystyle \\beta$"
          },
          "metadata": {},
          "execution_count": 62
        }
      ]
    },
    {
      "cell_type": "markdown",
      "source": [
        "- *Exemplo 6 : lim  $b0 + b1 . x$"
      ],
      "metadata": {
        "id": "IAunHpauJiyv"
      }
    },
    {
      "cell_type": "code",
      "source": [
        "x = sp.Symbol('x')\n",
        "beta = sp.Symbol('beta')\n",
        "beta1 = sp.Symbol('beta1')"
      ],
      "metadata": {
        "id": "2TfYZuWsJiyw"
      },
      "execution_count": null,
      "outputs": []
    },
    {
      "cell_type": "code",
      "source": [
        "fx = beta + beta1*x"
      ],
      "metadata": {
        "id": "PbjYV_jzJiyw"
      },
      "execution_count": null,
      "outputs": []
    },
    {
      "cell_type": "code",
      "source": [
        "fx"
      ],
      "metadata": {
        "colab": {
          "base_uri": "https://localhost:8080/",
          "height": 37
        },
        "outputId": "33f900ce-49fb-41f2-b3bb-d007730059a4",
        "id": "4NvWRWMuJiyx"
      },
      "execution_count": null,
      "outputs": [
        {
          "output_type": "execute_result",
          "data": {
            "text/plain": [
              "beta + beta1*x"
            ],
            "text/latex": "$\\displaystyle \\beta + \\beta_{1} x$"
          },
          "metadata": {},
          "execution_count": 61
        }
      ]
    },
    {
      "cell_type": "code",
      "source": [
        "sp.limit(fx,x,sp.oo)"
      ],
      "metadata": {
        "colab": {
          "base_uri": "https://localhost:8080/",
          "height": 37
        },
        "outputId": "80fdf99c-c563-4eae-c492-af55516e6bd6",
        "id": "4sXQ_I_wJiyx"
      },
      "execution_count": null,
      "outputs": [
        {
          "output_type": "execute_result",
          "data": {
            "text/plain": [
              "oo*sign(beta1)"
            ],
            "text/latex": "$\\displaystyle \\infty \\operatorname{sign}{\\left(\\beta_{1} \\right)}$"
          },
          "metadata": {},
          "execution_count": 64
        }
      ]
    },
    {
      "cell_type": "markdown",
      "source": [
        "- *Exemplo 7 : lim  $b0 + b1 . x$"
      ],
      "metadata": {
        "id": "2XVYObuRJmuI"
      }
    },
    {
      "cell_type": "code",
      "source": [
        "x = sp.Symbol('x')\n",
        "beta = sp.Symbol('beta')\n",
        "beta1 = sp.Symbol('beta1')"
      ],
      "metadata": {
        "id": "Vjz62N7-JmuI"
      },
      "execution_count": null,
      "outputs": []
    },
    {
      "cell_type": "code",
      "source": [
        "fx = beta + beta1*x"
      ],
      "metadata": {
        "id": "lrNYdJuIJmuJ"
      },
      "execution_count": null,
      "outputs": []
    },
    {
      "cell_type": "code",
      "source": [
        "fx"
      ],
      "metadata": {
        "colab": {
          "base_uri": "https://localhost:8080/",
          "height": 37
        },
        "outputId": "33f900ce-49fb-41f2-b3bb-d007730059a4",
        "id": "ctq7-lE3JmuJ"
      },
      "execution_count": null,
      "outputs": [
        {
          "output_type": "execute_result",
          "data": {
            "text/plain": [
              "beta + beta1*x"
            ],
            "text/latex": "$\\displaystyle \\beta + \\beta_{1} x$"
          },
          "metadata": {},
          "execution_count": 61
        }
      ]
    },
    {
      "cell_type": "code",
      "source": [
        "sp.limit(fx,x,0)"
      ],
      "metadata": {
        "colab": {
          "base_uri": "https://localhost:8080/",
          "height": 37
        },
        "outputId": "be0d0ddf-cc5b-4d1a-a4ba-f9f3a0ae8532",
        "id": "alYkYZwPJmuJ"
      },
      "execution_count": null,
      "outputs": [
        {
          "output_type": "execute_result",
          "data": {
            "text/plain": [
              "beta"
            ],
            "text/latex": "$\\displaystyle \\beta$"
          },
          "metadata": {},
          "execution_count": 62
        }
      ]
    }
  ]
}